{
 "cells": [
  {
   "cell_type": "code",
   "execution_count": 9,
   "metadata": {},
   "outputs": [],
   "source": [
    "import pandas as pd\n",
    "\n",
    "import numpy as np\n",
    "from sklearn import preprocessing\n",
    "from sklearn.base import BaseEstimator, TransformerMixin\n",
    "from sklearn.pipeline import Pipeline, FeatureUnion\n",
    "\n",
    "# for cross validation\n",
    "from sklearn.model_selection import train_test_split\n",
    "from sklearn.model_selection import train_test_split\n",
    "#from sklearn.model_selection import cross_validation\n",
    "from sklearn.model_selection import cross_val_predict, cross_val_score\n",
    "\n",
    "# for various metrics and reporting\n",
    "from sklearn import metrics \n",
    "from sklearn.metrics import roc_curve\n",
    "from sklearn.metrics import precision_recall_curve\n",
    "from sklearn.metrics import accuracy_score\n",
    "from sklearn.metrics import confusion_matrix\n",
    "from sklearn.metrics import classification_report\n",
    "from sklearn.metrics import accuracy_score\n",
    "from sklearn.metrics import confusion_matrix\n",
    "\n",
    "# feature selection\n",
    "from sklearn.feature_selection import SelectFromModel\n",
    "\n",
    "# xgboost library\n",
    "from xgboost import XGBClassifier\n",
    "\n",
    "# plot feature importance\n",
    "from xgboost import plot_importance, plot_tree\n",
    "\n"
   ]
  },
  {
   "cell_type": "code",
   "execution_count": 39,
   "metadata": {},
   "outputs": [],
   "source": [
    "df1=pd.read_csv(\"bad-words.csv\").rename(columns={\"jigaboo\":0})"
   ]
  },
  {
   "cell_type": "code",
   "execution_count": 40,
   "metadata": {},
   "outputs": [
    {
     "data": {
      "text/html": [
       "<div>\n",
       "<style scoped>\n",
       "    .dataframe tbody tr th:only-of-type {\n",
       "        vertical-align: middle;\n",
       "    }\n",
       "\n",
       "    .dataframe tbody tr th {\n",
       "        vertical-align: top;\n",
       "    }\n",
       "\n",
       "    .dataframe thead th {\n",
       "        text-align: right;\n",
       "    }\n",
       "</style>\n",
       "<table border=\"1\" class=\"dataframe\">\n",
       "  <thead>\n",
       "    <tr style=\"text-align: right;\">\n",
       "      <th></th>\n",
       "      <th>0</th>\n",
       "    </tr>\n",
       "  </thead>\n",
       "  <tbody>\n",
       "    <tr>\n",
       "      <td>0</td>\n",
       "      <td>mound of venus</td>\n",
       "    </tr>\n",
       "    <tr>\n",
       "      <td>1</td>\n",
       "      <td>asslover</td>\n",
       "    </tr>\n",
       "    <tr>\n",
       "      <td>2</td>\n",
       "      <td>s&amp;m</td>\n",
       "    </tr>\n",
       "    <tr>\n",
       "      <td>3</td>\n",
       "      <td>queaf</td>\n",
       "    </tr>\n",
       "    <tr>\n",
       "      <td>4</td>\n",
       "      <td>whitetrash</td>\n",
       "    </tr>\n",
       "    <tr>\n",
       "      <td>...</td>\n",
       "      <td>...</td>\n",
       "    </tr>\n",
       "    <tr>\n",
       "      <td>1611</td>\n",
       "      <td>cocky</td>\n",
       "    </tr>\n",
       "    <tr>\n",
       "      <td>1612</td>\n",
       "      <td>transsexual</td>\n",
       "    </tr>\n",
       "    <tr>\n",
       "      <td>1613</td>\n",
       "      <td>unfuckable</td>\n",
       "    </tr>\n",
       "    <tr>\n",
       "      <td>1614</td>\n",
       "      <td>bestiality</td>\n",
       "    </tr>\n",
       "    <tr>\n",
       "      <td>1615</td>\n",
       "      <td>cocklicker</td>\n",
       "    </tr>\n",
       "  </tbody>\n",
       "</table>\n",
       "<p>1616 rows × 1 columns</p>\n",
       "</div>"
      ],
      "text/plain": [
       "                   0\n",
       "0     mound of venus\n",
       "1           asslover\n",
       "2                s&m\n",
       "3              queaf\n",
       "4         whitetrash\n",
       "...              ...\n",
       "1611           cocky\n",
       "1612     transsexual\n",
       "1613      unfuckable\n",
       "1614      bestiality\n",
       "1615      cocklicker\n",
       "\n",
       "[1616 rows x 1 columns]"
      ]
     },
     "execution_count": 40,
     "metadata": {},
     "output_type": "execute_result"
    }
   ],
   "source": [
    "df1\n"
   ]
  },
  {
   "cell_type": "code",
   "execution_count": 8,
   "metadata": {},
   "outputs": [],
   "source": [
    "def get_data():\n",
    "    data_path = \"badwords.csv\"\n",
    "    df = pd.read_csv(data_path, index_col=0) \n",
    "    df = df.sample(frac=1).reset_index(drop=True)  \n",
    "    return df "
   ]
  },
  {
   "cell_type": "code",
   "execution_count": 40,
   "metadata": {},
   "outputs": [],
   "source": [
    "file= open(\"full-list-of-bad-words_comma-separated-text-file_2018_07_30.txt\", 'r')\n",
    "data = file.read().replace('\\n', '')"
   ]
  },
  {
   "cell_type": "code",
   "execution_count": 41,
   "metadata": {},
   "outputs": [],
   "source": [
    "list =data.split(\",\")"
   ]
  },
  {
   "cell_type": "code",
   "execution_count": 42,
   "metadata": {},
   "outputs": [],
   "source": [
    "df=pd.DataFrame(list)"
   ]
  },
  {
   "cell_type": "code",
   "execution_count": 44,
   "metadata": {},
   "outputs": [
    {
     "data": {
      "text/html": [
       "<div>\n",
       "<style scoped>\n",
       "    .dataframe tbody tr th:only-of-type {\n",
       "        vertical-align: middle;\n",
       "    }\n",
       "\n",
       "    .dataframe tbody tr th {\n",
       "        vertical-align: top;\n",
       "    }\n",
       "\n",
       "    .dataframe thead th {\n",
       "        text-align: right;\n",
       "    }\n",
       "</style>\n",
       "<table border=\"1\" class=\"dataframe\">\n",
       "  <thead>\n",
       "    <tr style=\"text-align: right;\">\n",
       "      <th></th>\n",
       "      <th>0</th>\n",
       "    </tr>\n",
       "  </thead>\n",
       "  <tbody>\n",
       "    <tr>\n",
       "      <td>0</td>\n",
       "      <td>2 girls 1 cup</td>\n",
       "    </tr>\n",
       "    <tr>\n",
       "      <td>1</td>\n",
       "      <td>2g1c</td>\n",
       "    </tr>\n",
       "    <tr>\n",
       "      <td>2</td>\n",
       "      <td>4r5e</td>\n",
       "    </tr>\n",
       "    <tr>\n",
       "      <td>3</td>\n",
       "      <td>5h1t</td>\n",
       "    </tr>\n",
       "    <tr>\n",
       "      <td>4</td>\n",
       "      <td>5hit</td>\n",
       "    </tr>\n",
       "    <tr>\n",
       "      <td>...</td>\n",
       "      <td>...</td>\n",
       "    </tr>\n",
       "    <tr>\n",
       "      <td>1698</td>\n",
       "      <td>yiffy</td>\n",
       "    </tr>\n",
       "    <tr>\n",
       "      <td>1699</td>\n",
       "      <td>yobbo</td>\n",
       "    </tr>\n",
       "    <tr>\n",
       "      <td>1700</td>\n",
       "      <td>zibbi</td>\n",
       "    </tr>\n",
       "    <tr>\n",
       "      <td>1701</td>\n",
       "      <td>zoophilia</td>\n",
       "    </tr>\n",
       "    <tr>\n",
       "      <td>1702</td>\n",
       "      <td>zubb</td>\n",
       "    </tr>\n",
       "  </tbody>\n",
       "</table>\n",
       "<p>1703 rows × 1 columns</p>\n",
       "</div>"
      ],
      "text/plain": [
       "                  0\n",
       "0     2 girls 1 cup\n",
       "1              2g1c\n",
       "2              4r5e\n",
       "3              5h1t\n",
       "4              5hit\n",
       "...             ...\n",
       "1698          yiffy\n",
       "1699          yobbo\n",
       "1700          zibbi\n",
       "1701      zoophilia\n",
       "1702           zubb\n",
       "\n",
       "[1703 rows x 1 columns]"
      ]
     },
     "execution_count": 44,
     "metadata": {},
     "output_type": "execute_result"
    }
   ],
   "source": [
    "df"
   ]
  },
  {
   "cell_type": "code",
   "execution_count": 45,
   "metadata": {},
   "outputs": [],
   "source": [
    "df=pd.concat([df,df1])"
   ]
  },
  {
   "cell_type": "code",
   "execution_count": 24,
   "metadata": {},
   "outputs": [
    {
     "name": "stderr",
     "output_type": "stream",
     "text": [
      "[nltk_data] Downloading package punkt to\n",
      "[nltk_data]     C:\\Users\\hedi\\AppData\\Roaming\\nltk_data...\n",
      "[nltk_data]   Package punkt is already up-to-date!\n"
     ]
    },
    {
     "data": {
      "text/plain": [
       "True"
      ]
     },
     "execution_count": 24,
     "metadata": {},
     "output_type": "execute_result"
    }
   ],
   "source": [
    "import nltk "
   ]
  },
  {
   "cell_type": "code",
   "execution_count": 26,
   "metadata": {},
   "outputs": [],
   "source": [
    "text=\"I do not like green eggs and ham I do not like them Sam-I-am.\""
   ]
  },
  {
   "cell_type": "code",
   "execution_count": 45,
   "metadata": {},
   "outputs": [],
   "source": [
    "list=[i for i in df[0]]"
   ]
  },
  {
   "cell_type": "code",
   "execution_count": null,
   "metadata": {},
   "outputs": [],
   "source": []
  },
  {
   "cell_type": "code",
   "execution_count": null,
   "metadata": {},
   "outputs": [],
   "source": []
  },
  {
   "cell_type": "code",
   "execution_count": 16,
   "metadata": {},
   "outputs": [],
   "source": [
    "def analysetext(text):\n",
    "    x=0\n",
    "    y=0\n",
    "    listt = nltk.tokenize.sent_tokenize(text)\n",
    "    for i in listt :\n",
    "        bol=False\n",
    "        for  j in list:\n",
    "            if (j in i) :\n",
    "                bol=True\n",
    "        if bol : x+=1       \n",
    "        y+=1\n",
    "    return(x)\n",
    "\n",
    "            "
   ]
  },
  {
   "cell_type": "code",
   "execution_count": 89,
   "metadata": {},
   "outputs": [
    {
     "name": "stdout",
     "output_type": "stream",
     "text": [
      "['“Hi Amy!', 'Your mum sent me a text.', 'You forgot your inhaler.', 'Why don’t you turn your phone on?” Amy didn’t like technology.', 'She never sent text messages and she hated Facebook too.“Did Kamal ask you to the disco?” Tara was Amy’s best friend, and she wanted to know everything that was happening in Amy’s life.', '“I don’t think he likes me,” said Amy.', '“And I never see him alone.', 'He’s always with Grant.” Amy and Tara didn’t like Grant.“Do you know about their art project?” asked Amy.', '“It’s about graffiti, I think,” said Tara.', '“They’re working on it at the old house behind the factory.” “But that building is dangerous,” said Amy.', '“Aah, are you worried he’s going to get hurt?\"', 'Tara teased.', '“Shut up, Tara!', 'Hey look, here they come!”Kamal and Grant arrived.', '“Hi Kamal!” said Tara.', '“Are you going to the Halloween disco tomorrow?” “Yes.', 'Hi Amy,” Kamal said, smiling.', '“Do you want to come and see our paintings after school?” “I’m coming too!” Tara insisted.After school, Kamal took the girls to the old house.', 'It was very old and very dirty too.', 'There was rubbish everywhere.', 'The windows were broken and the walls were damp.', 'It was scary.', 'Amy didn’t like it.', 'There were paintings of zombies and skeletons on the walls.', '“We’re going to take photos for the school art competition,” said Kamal.', 'Amy didn’t like it but she didn’t say anything.', '“Where’s Grant?” asked Tara.', '“Er, he’s buying more paint.” Kamal looked away quickly.', 'Tara thought he looked suspicious.', '“It’s getting dark, can we go now?” said Amy.', 'She didn’t like zombies.']\n"
     ]
    },
    {
     "data": {
      "text/plain": [
       "(11, 31)"
      ]
     },
     "execution_count": 89,
     "metadata": {},
     "output_type": "execute_result"
    }
   ],
   "source": [
    "analysetext(text)"
   ]
  },
  {
   "cell_type": "code",
   "execution_count": 90,
   "metadata": {},
   "outputs": [
    {
     "name": "stdout",
     "output_type": "stream",
     "text": [
      "\f",
      "\n"
     ]
    }
   ],
   "source": [
    "clear()"
   ]
  },
  {
   "cell_type": "code",
   "execution_count": 86,
   "metadata": {},
   "outputs": [],
   "source": [
    "text='“Hi Amy! Your mum sent me a text. You forgot your inhaler. Why don’t you turn your phone on?” Amy didn’t like technology. She never sent text messages and she hated Facebook too.“Did Kamal ask you to the disco?” Tara was Amy’s best friend, and she wanted to know everything that was happening in Amy’s life. “I don’t think he likes me,” said Amy. “And I never see him alone. He’s always with Grant.” Amy and Tara didn’t like Grant.“Do you know about their art project?” asked Amy. “It’s about graffiti, I think,” said Tara. “They’re working on it at the old house behind the factory.” “But that building is dangerous,” said Amy. “Aah, are you worried he’s going to get hurt?\" Tara teased. “Shut up, Tara! Hey look, here they come!”Kamal and Grant arrived. “Hi Kamal!” said Tara. “Are you going to the Halloween disco tomorrow?” “Yes. Hi Amy,” Kamal said, smiling. “Do you want to come and see our paintings after school?” “I’m coming too!” Tara insisted.After school, Kamal took the girls to the old house. It was very old and very dirty too. There was rubbish everywhere. The windows were broken and the walls were damp. It was scary. Amy didn’t like it. There were paintings of zombies and skeletons on the walls. “We’re going to take photos for the school art competition,” said Kamal. Amy didn’t like it but she didn’t say anything. “Where’s Grant?” asked Tara. “Er, he’s buying more paint.” Kamal looked away quickly. Tara thought he looked suspicious. “It’s getting dark, can we go now?” said Amy. She didn’t like zombies.'"
   ]
  },
  {
   "cell_type": "code",
   "execution_count": null,
   "metadata": {},
   "outputs": [],
   "source": [
    "\n"
   ]
  },
  {
   "cell_type": "code",
   "execution_count": null,
   "metadata": {},
   "outputs": [],
   "source": [
    "#model to test if a  sentence contain a bad words  using embbeding"
   ]
  },
  {
   "cell_type": "code",
   "execution_count": 2,
   "metadata": {},
   "outputs": [
    {
     "data": {
      "text/plain": [
       "gensim.models.keyedvectors.Word2VecKeyedVectors"
      ]
     },
     "execution_count": 2,
     "metadata": {},
     "output_type": "execute_result"
    }
   ],
   "source": [
    "from gensim.models import KeyedVectors,word2vec\n",
    "\n",
    "#model=KeyedVectors.load_word2vec_format(\"C:\\Users\\hedi\\Desktop\\factory619 internship\\GoogleNews-vectors-negative300.bin\", binary=True)\n",
    "\n",
    "wv = KeyedVectors.load_word2vec_format('../GoogleNews-vectors-negative300.bin', binary=True, limit=500000)\n",
    "wv.init_sims(replace=True)\n",
    "from itertools import islice\n",
    "list(islice(wv.vocab, 13030, 13050))\n",
    "type(wv)\n"
   ]
  },
  {
   "cell_type": "code",
   "execution_count": 20,
   "metadata": {},
   "outputs": [],
   "source": [
    "def word_averaging(wv, words):\n",
    "    all_words, mean = set(), []\n",
    "    \n",
    "    for word in words:\n",
    "        if isinstance(word, np.ndarray):\n",
    "            mean.append(word)\n",
    "        elif word in wv.vocab:\n",
    "            mean.append(wv.syn0norm[wv.vocab[word].index])\n",
    "            all_words.add(wv.vocab[word].index)\n",
    "\n",
    "    if not mean:\n",
    "        logging.warning(\"cannot compute similarity with no input %s\", words)\n",
    "        # FIXME: remove these examples in pre-processing\n",
    "        return np.zeros(wv.vector_size,)\n",
    "\n",
    "    mean = gensim.matutils.unitvec(np.array(mean).mean(axis=0)).astype(np.float32)\n",
    "    return mean\n",
    "\n",
    "def  word_averaging_list(wv, text_list):\n",
    "    return np.vstack([word_averaging(wv, post) for post in text_list ])"
   ]
  },
  {
   "cell_type": "code",
   "execution_count": 21,
   "metadata": {},
   "outputs": [
    {
     "ename": "NameError",
     "evalue": "name 'wv' is not defined",
     "output_type": "error",
     "traceback": [
      "\u001b[1;31m---------------------------------------------------------------------------\u001b[0m",
      "\u001b[1;31mNameError\u001b[0m                                 Traceback (most recent call last)",
      "\u001b[1;32m<ipython-input-21-b64f209cdd34>\u001b[0m in \u001b[0;36m<module>\u001b[1;34m\u001b[0m\n\u001b[0;32m     15\u001b[0m \u001b[0mtrain_tokenized\u001b[0m \u001b[1;33m=\u001b[0m \u001b[0mtrain\u001b[0m\u001b[1;33m.\u001b[0m\u001b[0mapply\u001b[0m\u001b[1;33m(\u001b[0m\u001b[1;32mlambda\u001b[0m \u001b[0mr\u001b[0m\u001b[1;33m:\u001b[0m \u001b[0mw2v_tokenize_text\u001b[0m\u001b[1;33m(\u001b[0m\u001b[0mr\u001b[0m\u001b[1;33m[\u001b[0m\u001b[1;34m'Comment'\u001b[0m\u001b[1;33m]\u001b[0m\u001b[1;33m)\u001b[0m\u001b[1;33m,\u001b[0m \u001b[0maxis\u001b[0m\u001b[1;33m=\u001b[0m\u001b[1;36m1\u001b[0m\u001b[1;33m)\u001b[0m\u001b[1;33m.\u001b[0m\u001b[0mvalues\u001b[0m\u001b[1;33m\u001b[0m\u001b[1;33m\u001b[0m\u001b[0m\n\u001b[0;32m     16\u001b[0m \u001b[1;33m\u001b[0m\u001b[0m\n\u001b[1;32m---> 17\u001b[1;33m \u001b[0mX_train_word_average\u001b[0m \u001b[1;33m=\u001b[0m \u001b[0mword_averaging_list\u001b[0m\u001b[1;33m(\u001b[0m\u001b[0mwv\u001b[0m\u001b[1;33m,\u001b[0m\u001b[0mtrain_tokenized\u001b[0m\u001b[1;33m)\u001b[0m\u001b[1;33m\u001b[0m\u001b[1;33m\u001b[0m\u001b[0m\n\u001b[0m\u001b[0;32m     18\u001b[0m \u001b[0mX_test_word_average\u001b[0m \u001b[1;33m=\u001b[0m \u001b[0mword_averaging_list\u001b[0m\u001b[1;33m(\u001b[0m\u001b[0mwv\u001b[0m\u001b[1;33m,\u001b[0m\u001b[0mtest_tokenized\u001b[0m\u001b[1;33m)\u001b[0m\u001b[1;33m\u001b[0m\u001b[1;33m\u001b[0m\u001b[0m\n\u001b[0;32m     19\u001b[0m \u001b[1;33m\u001b[0m\u001b[0m\n",
      "\u001b[1;31mNameError\u001b[0m: name 'wv' is not defined"
     ]
    }
   ],
   "source": [
    "from sklearn.model_selection import train_test_split\n",
    "    \n",
    "def w2v_tokenize_text(text):\n",
    "    tokens = []\n",
    "    for sent in nltk.sent_tokenize(text, language='english'):\n",
    "        for word in nltk.word_tokenize(sent, language='english'):\n",
    "            if len(word) < 2:\n",
    "                continue\n",
    "            tokens.append(word)\n",
    "    return tokens\n",
    "    \n",
    "train, test = train_test_split(df1, test_size=0.3, random_state = 42)\n",
    "\n",
    "test_tokenized = test.apply(lambda r: w2v_tokenize_text(r['Comment']), axis=1).values\n",
    "train_tokenized = train.apply(lambda r: w2v_tokenize_text(r['Comment']), axis=1).values\n",
    "\n",
    "X_train_word_average = word_averaging_list(wv,train_tokenized)\n",
    "X_test_word_average = word_averaging_list(wv,test_tokenized)\n",
    "\n",
    "\n",
    "\n",
    "\n"
   ]
  },
  {
   "cell_type": "code",
   "execution_count": 8,
   "metadata": {},
   "outputs": [],
   "source": [
    "from xgboost import XGBClassifier\n",
    "# # train XGBoost model with default parameters and  \n",
    "my_model = XGBClassifier(objective ='reg:linear', colsample_bytree = 0.3, learning_rate = 0.1,max_depth = 5, alpha = 10, n_estimators = 300)\n",
    "model = XGBClassifier()\n",
    "# my_model.fit(X_train_word_average, train[\"class\"] ,verbose=False)"
   ]
  },
  {
   "cell_type": "code",
   "execution_count": 9,
   "metadata": {},
   "outputs": [],
   "source": [
    "               \n",
    "# model.fit(X_train, y_train)\n",
    "# y_pred = model.predict(X_test)\n",
    "# print('accuracy %s' % accuracy_score(y_pred, test[\"subj or obj\"]))\n",
    "# # and save our model\n",
    "# my_model.save_model(\"xgboost_baseline.model\")"
   ]
  },
  {
   "cell_type": "code",
   "execution_count": 10,
   "metadata": {},
   "outputs": [],
   "source": [
    "    df1=pd.read_csv(\"train.csv\",delimiter=\",\")"
   ]
  },
  {
   "cell_type": "code",
   "execution_count": null,
   "metadata": {},
   "outputs": [],
   "source": []
  },
  {
   "cell_type": "code",
   "execution_count": 11,
   "metadata": {},
   "outputs": [
    {
     "data": {
      "text/plain": [
       "0    2898\n",
       "1    1049\n",
       "Name: Insult, dtype: int64"
      ]
     },
     "execution_count": 11,
     "metadata": {},
     "output_type": "execute_result"
    }
   ],
   "source": [
    "df1.Insult.value_counts()"
   ]
  },
  {
   "cell_type": "code",
   "execution_count": 20,
   "metadata": {},
   "outputs": [
    {
     "data": {
      "text/html": [
       "<div>\n",
       "<style scoped>\n",
       "    .dataframe tbody tr th:only-of-type {\n",
       "        vertical-align: middle;\n",
       "    }\n",
       "\n",
       "    .dataframe tbody tr th {\n",
       "        vertical-align: top;\n",
       "    }\n",
       "\n",
       "    .dataframe thead th {\n",
       "        text-align: right;\n",
       "    }\n",
       "</style>\n",
       "<table border=\"1\" class=\"dataframe\">\n",
       "  <thead>\n",
       "    <tr style=\"text-align: right;\">\n",
       "      <th></th>\n",
       "      <th>Insult</th>\n",
       "      <th>Date</th>\n",
       "      <th>Comment</th>\n",
       "    </tr>\n",
       "  </thead>\n",
       "  <tbody>\n",
       "    <tr>\n",
       "      <td>0</td>\n",
       "      <td>1</td>\n",
       "      <td>20120618192155Z</td>\n",
       "      <td>\"You fuck your dad.\"</td>\n",
       "    </tr>\n",
       "    <tr>\n",
       "      <td>1</td>\n",
       "      <td>0</td>\n",
       "      <td>20120528192215Z</td>\n",
       "      <td>\"i really don't understand your point.\\xa0 It ...</td>\n",
       "    </tr>\n",
       "    <tr>\n",
       "      <td>2</td>\n",
       "      <td>0</td>\n",
       "      <td>NaN</td>\n",
       "      <td>\"A\\\\xc2\\\\xa0majority of Canadians can and has ...</td>\n",
       "    </tr>\n",
       "    <tr>\n",
       "      <td>3</td>\n",
       "      <td>0</td>\n",
       "      <td>NaN</td>\n",
       "      <td>\"listen if you dont wanna get married to a man...</td>\n",
       "    </tr>\n",
       "    <tr>\n",
       "      <td>4</td>\n",
       "      <td>0</td>\n",
       "      <td>20120619094753Z</td>\n",
       "      <td>\"C\\xe1c b\\u1ea1n xu\\u1ed1ng \\u0111\\u01b0\\u1edd...</td>\n",
       "    </tr>\n",
       "    <tr>\n",
       "      <td>...</td>\n",
       "      <td>...</td>\n",
       "      <td>...</td>\n",
       "      <td>...</td>\n",
       "    </tr>\n",
       "    <tr>\n",
       "      <td>3942</td>\n",
       "      <td>1</td>\n",
       "      <td>20120502172717Z</td>\n",
       "      <td>\"you are both morons and that is never happening\"</td>\n",
       "    </tr>\n",
       "    <tr>\n",
       "      <td>3943</td>\n",
       "      <td>0</td>\n",
       "      <td>20120528164814Z</td>\n",
       "      <td>\"Many toolbars include spell check, like Yahoo...</td>\n",
       "    </tr>\n",
       "    <tr>\n",
       "      <td>3944</td>\n",
       "      <td>0</td>\n",
       "      <td>20120620142813Z</td>\n",
       "      <td>\"@LambeauOrWrigley\\xa0\\xa0@K.Moss\\xa0\\nSioux F...</td>\n",
       "    </tr>\n",
       "    <tr>\n",
       "      <td>3945</td>\n",
       "      <td>0</td>\n",
       "      <td>20120528205648Z</td>\n",
       "      <td>\"How about Felix? He is sure turning into one ...</td>\n",
       "    </tr>\n",
       "    <tr>\n",
       "      <td>3946</td>\n",
       "      <td>0</td>\n",
       "      <td>20120515200734Z</td>\n",
       "      <td>\"You're all upset, defending this hipster band...</td>\n",
       "    </tr>\n",
       "  </tbody>\n",
       "</table>\n",
       "<p>3947 rows × 3 columns</p>\n",
       "</div>"
      ],
      "text/plain": [
       "      Insult             Date  \\\n",
       "0          1  20120618192155Z   \n",
       "1          0  20120528192215Z   \n",
       "2          0              NaN   \n",
       "3          0              NaN   \n",
       "4          0  20120619094753Z   \n",
       "...      ...              ...   \n",
       "3942       1  20120502172717Z   \n",
       "3943       0  20120528164814Z   \n",
       "3944       0  20120620142813Z   \n",
       "3945       0  20120528205648Z   \n",
       "3946       0  20120515200734Z   \n",
       "\n",
       "                                                Comment  \n",
       "0                                  \"You fuck your dad.\"  \n",
       "1     \"i really don't understand your point.\\xa0 It ...  \n",
       "2     \"A\\\\xc2\\\\xa0majority of Canadians can and has ...  \n",
       "3     \"listen if you dont wanna get married to a man...  \n",
       "4     \"C\\xe1c b\\u1ea1n xu\\u1ed1ng \\u0111\\u01b0\\u1edd...  \n",
       "...                                                 ...  \n",
       "3942  \"you are both morons and that is never happening\"  \n",
       "3943  \"Many toolbars include spell check, like Yahoo...  \n",
       "3944  \"@LambeauOrWrigley\\xa0\\xa0@K.Moss\\xa0\\nSioux F...  \n",
       "3945  \"How about Felix? He is sure turning into one ...  \n",
       "3946  \"You're all upset, defending this hipster band...  \n",
       "\n",
       "[3947 rows x 3 columns]"
      ]
     },
     "execution_count": 20,
     "metadata": {},
     "output_type": "execute_result"
    }
   ],
   "source": [
    "df1"
   ]
  },
  {
   "cell_type": "code",
   "execution_count": null,
   "metadata": {},
   "outputs": [],
   "source": [
    "#cleaning"
   ]
  },
  {
   "cell_type": "code",
   "execution_count": 12,
   "metadata": {},
   "outputs": [],
   "source": [
    "from sklearn.feature_extraction.text import TfidfVectorizer\n",
    "import nltk\n",
    "from nltk.stem.porter import *\n",
    "import string\n",
    "import re\n",
    "\n",
    "stopwords=stopwords = nltk.corpus.stopwords.words(\"english\")\n",
    "\n",
    "other_exclusions = [\"#ff\", \"ff\", \"rt\"]\n",
    "stopwords.extend(other_exclusions)\n",
    "\n",
    "stemmer = PorterStemmer()\n",
    "\n",
    "\n",
    "def preprocess(text_string):\n",
    "    \"\"\"\n",
    "    Accepts a text string and replaces:\n",
    "    1) urls with URLHERE\n",
    "    2) lots of whitespace with one instance\n",
    "    3) mentions with MENTIONHERE\n",
    "\n",
    "    This allows us to get standardized counts of urls and mentions\n",
    "    Without caring about specific people mentioned\n",
    "    \"\"\"\n",
    "    space_pattern = '\\s+'\n",
    "    giant_url_regex = ('http[s]?://(?:[a-zA-Z]|[0-9]|[$-_@.&+]|'\n",
    "        '[!*\\(\\),]|(?:%[0-9a-fA-F][0-9a-fA-F]))+')\n",
    "    mention_regex = '@[\\w\\-]+'\n",
    "    hashtag_regex = '#[\\w\\-]+'\n",
    "    \n",
    "#     regrex='RT :+'\n",
    "#     text_string = re.sub(regrex, '', text_string)\n",
    "    \n",
    "    parsed_text = re.sub(space_pattern, ' ', text_string)\n",
    "    parsed_text = re.sub(giant_url_regex, '', parsed_text)\n",
    "    parsed_text = re.sub(mention_regex, '', parsed_text)\n",
    "    parsed_text = re.sub(hashtag_regex, '', parsed_text)\n",
    "    parsed_text = re.sub('RT', '', parsed_text,1)\n",
    "#     parsed_text=parsed_text.translate(str.maketrans('', '', string.punctuation))\n",
    "    \n",
    "    #parsed_text = parsed_text.code(\"utf-8\", errors='ignore')\n",
    "    return parsed_text\n",
    "\n",
    "def tokenize(tweet):\n",
    "    \"\"\"Removes punctuation & excess whitespace, sets to lowercase,\n",
    "    and stems tweets. Returns a list of stemmed tokens.\"\"\"\n",
    "    tweet = \" \".join(re.split(\"[^a-zA-Z]*\", tweet.lower())).strip()\n",
    "    #tokens = re.split(\"[^a-zA-Z]*\", tweet.lower())\n",
    "    tokens = [stemmer.stem(t) for t in tweet.split()]\n",
    "    return tokens\n",
    "\n",
    "def basic_tokenize(tweet):\n",
    "    \"\"\"Same as tokenize but without the stemming\"\"\"\n",
    "    tweet = \" \".join(re.split(\"[^a-zA-Z.,!?]*\", tweet.lower())).strip()\n",
    "    return tweet.split()\n",
    "\n",
    "vectorizer = TfidfVectorizer(\n",
    "    #vectorizer = sklearn.feature_extraction.text.CountVectorizer(\n",
    "    tokenizer=tokenize,\n",
    "    preprocessor=preprocess,\n",
    "    ngram_range=(1, 3),\n",
    "    stop_words=stopwords, #We do better when we keep stopwords\n",
    "    use_idf=True,\n",
    "    smooth_idf=False,\n",
    "    norm=None, #Applies l2 norm smoothing\n",
    "    decode_error='replace',\n",
    "    max_features=10000,\n",
    "    min_df=5,\n",
    "    max_df=0.501\n",
    "    )\n",
    "\n",
    "def Punctuation(string): \n",
    "  \n",
    "    # punctuation marks \n",
    "    punctuations = '''!()-[]{};:'\"\\,<>./?@#$%^&*_~1234567890'''\n",
    "    for x in string.lower(): \n",
    "        if x in punctuations: \n",
    "            string = string.replace(x, \"\") \n",
    "  \n",
    "    # Print string without punctuation \n",
    "    return(string) \n",
    "  "
   ]
  },
  {
   "cell_type": "code",
   "execution_count": 13,
   "metadata": {},
   "outputs": [],
   "source": [
    "df1.Comment=df1.Comment.apply(lambda x:preprocess(x))\n",
    "\n",
    "df1.Comment=df1.Comment.apply(lambda x:Punctuation(x))\n",
    "# df.tweet.apply(lambda x:preprocess(x))"
   ]
  },
  {
   "cell_type": "code",
   "execution_count": 14,
   "metadata": {},
   "outputs": [
    {
     "data": {
      "text/html": [
       "<div>\n",
       "<style scoped>\n",
       "    .dataframe tbody tr th:only-of-type {\n",
       "        vertical-align: middle;\n",
       "    }\n",
       "\n",
       "    .dataframe tbody tr th {\n",
       "        vertical-align: top;\n",
       "    }\n",
       "\n",
       "    .dataframe thead th {\n",
       "        text-align: right;\n",
       "    }\n",
       "</style>\n",
       "<table border=\"1\" class=\"dataframe\">\n",
       "  <thead>\n",
       "    <tr style=\"text-align: right;\">\n",
       "      <th></th>\n",
       "      <th>Insult</th>\n",
       "      <th>Date</th>\n",
       "      <th>Comment</th>\n",
       "    </tr>\n",
       "  </thead>\n",
       "  <tbody>\n",
       "    <tr>\n",
       "      <td>0</td>\n",
       "      <td>1</td>\n",
       "      <td>20120618192155Z</td>\n",
       "      <td>You fuck your dad</td>\n",
       "    </tr>\n",
       "    <tr>\n",
       "      <td>1</td>\n",
       "      <td>0</td>\n",
       "      <td>20120528192215Z</td>\n",
       "      <td>i really dont understand your pointxa It seems...</td>\n",
       "    </tr>\n",
       "    <tr>\n",
       "      <td>2</td>\n",
       "      <td>0</td>\n",
       "      <td>NaN</td>\n",
       "      <td>Axcxamajority of Canadians can and has been wr...</td>\n",
       "    </tr>\n",
       "    <tr>\n",
       "      <td>3</td>\n",
       "      <td>0</td>\n",
       "      <td>NaN</td>\n",
       "      <td>listen if you dont wanna get married to a man ...</td>\n",
       "    </tr>\n",
       "    <tr>\n",
       "      <td>4</td>\n",
       "      <td>0</td>\n",
       "      <td>20120619094753Z</td>\n",
       "      <td>Cxec buean xuuedng uubueddng biuecu txecnh  cx...</td>\n",
       "    </tr>\n",
       "    <tr>\n",
       "      <td>...</td>\n",
       "      <td>...</td>\n",
       "      <td>...</td>\n",
       "      <td>...</td>\n",
       "    </tr>\n",
       "    <tr>\n",
       "      <td>3942</td>\n",
       "      <td>1</td>\n",
       "      <td>20120502172717Z</td>\n",
       "      <td>you are both morons and that is never happening</td>\n",
       "    </tr>\n",
       "    <tr>\n",
       "      <td>3943</td>\n",
       "      <td>0</td>\n",
       "      <td>20120528164814Z</td>\n",
       "      <td>Many toolbars include spell check like Yahoo f...</td>\n",
       "    </tr>\n",
       "    <tr>\n",
       "      <td>3944</td>\n",
       "      <td>0</td>\n",
       "      <td>20120620142813Z</td>\n",
       "      <td>xaxaMossxanSioux Falls SD I told my boy he sho...</td>\n",
       "    </tr>\n",
       "    <tr>\n",
       "      <td>3945</td>\n",
       "      <td>0</td>\n",
       "      <td>20120528205648Z</td>\n",
       "      <td>How about Felix He is sure turning into one he...</td>\n",
       "    </tr>\n",
       "    <tr>\n",
       "      <td>3946</td>\n",
       "      <td>0</td>\n",
       "      <td>20120515200734Z</td>\n",
       "      <td>Youre all upset defending this hipster bandand...</td>\n",
       "    </tr>\n",
       "  </tbody>\n",
       "</table>\n",
       "<p>3947 rows × 3 columns</p>\n",
       "</div>"
      ],
      "text/plain": [
       "      Insult             Date  \\\n",
       "0          1  20120618192155Z   \n",
       "1          0  20120528192215Z   \n",
       "2          0              NaN   \n",
       "3          0              NaN   \n",
       "4          0  20120619094753Z   \n",
       "...      ...              ...   \n",
       "3942       1  20120502172717Z   \n",
       "3943       0  20120528164814Z   \n",
       "3944       0  20120620142813Z   \n",
       "3945       0  20120528205648Z   \n",
       "3946       0  20120515200734Z   \n",
       "\n",
       "                                                Comment  \n",
       "0                                     You fuck your dad  \n",
       "1     i really dont understand your pointxa It seems...  \n",
       "2     Axcxamajority of Canadians can and has been wr...  \n",
       "3     listen if you dont wanna get married to a man ...  \n",
       "4     Cxec buean xuuedng uubueddng biuecu txecnh  cx...  \n",
       "...                                                 ...  \n",
       "3942    you are both morons and that is never happening  \n",
       "3943  Many toolbars include spell check like Yahoo f...  \n",
       "3944  xaxaMossxanSioux Falls SD I told my boy he sho...  \n",
       "3945  How about Felix He is sure turning into one he...  \n",
       "3946  Youre all upset defending this hipster bandand...  \n",
       "\n",
       "[3947 rows x 3 columns]"
      ]
     },
     "execution_count": 14,
     "metadata": {},
     "output_type": "execute_result"
    }
   ],
   "source": [
    "df1"
   ]
  },
  {
   "cell_type": "code",
   "execution_count": 15,
   "metadata": {},
   "outputs": [
    {
     "ename": "NameError",
     "evalue": "name 'analysetext' is not defined",
     "output_type": "error",
     "traceback": [
      "\u001b[1;31m---------------------------------------------------------------------------\u001b[0m",
      "\u001b[1;31mNameError\u001b[0m                                 Traceback (most recent call last)",
      "\u001b[1;32m<ipython-input-15-34efe53bd1b7>\u001b[0m in \u001b[0;36m<module>\u001b[1;34m\u001b[0m\n\u001b[0;32m      1\u001b[0m \u001b[0ml\u001b[0m\u001b[1;33m=\u001b[0m\u001b[1;33m[\u001b[0m\u001b[1;33m]\u001b[0m\u001b[1;33m\u001b[0m\u001b[1;33m\u001b[0m\u001b[0m\n\u001b[0;32m      2\u001b[0m \u001b[1;32mfor\u001b[0m \u001b[0mi\u001b[0m \u001b[1;32min\u001b[0m \u001b[0mdf1\u001b[0m\u001b[1;33m.\u001b[0m\u001b[0mComment\u001b[0m \u001b[1;33m:\u001b[0m\u001b[1;33m\u001b[0m\u001b[1;33m\u001b[0m\u001b[0m\n\u001b[1;32m----> 3\u001b[1;33m     \u001b[0ml\u001b[0m\u001b[1;33m.\u001b[0m\u001b[0mappend\u001b[0m\u001b[1;33m(\u001b[0m\u001b[0manalysetext\u001b[0m\u001b[1;33m(\u001b[0m\u001b[0mi\u001b[0m\u001b[1;33m)\u001b[0m\u001b[1;33m)\u001b[0m\u001b[1;33m\u001b[0m\u001b[1;33m\u001b[0m\u001b[0m\n\u001b[0m\u001b[0;32m      4\u001b[0m \u001b[1;33m\u001b[0m\u001b[0m\n\u001b[0;32m      5\u001b[0m \u001b[1;33m\u001b[0m\u001b[0m\n",
      "\u001b[1;31mNameError\u001b[0m: name 'analysetext' is not defined"
     ]
    }
   ],
   "source": [
    "l=[]\n",
    "for i in df1.Comment :\n",
    "    l.append(analysetext(i))\n",
    "    \n",
    "        "
   ]
  },
  {
   "cell_type": "code",
   "execution_count": 65,
   "metadata": {},
   "outputs": [],
   "source": [
    "j=0\n",
    "x=0\n",
    "for i in df1.Insult:\n",
    "    if (i ==l[j]):\n",
    "        x+=1\n",
    "    \n",
    "    "
   ]
  },
  {
   "cell_type": "code",
   "execution_count": 66,
   "metadata": {},
   "outputs": [
    {
     "data": {
      "text/plain": [
       "1049"
      ]
     },
     "execution_count": 66,
     "metadata": {},
     "output_type": "execute_result"
    }
   ],
   "source": [
    "x"
   ]
  },
  {
   "cell_type": "code",
   "execution_count": 67,
   "metadata": {},
   "outputs": [
    {
     "data": {
      "text/plain": [
       "3947"
      ]
     },
     "execution_count": 67,
     "metadata": {},
     "output_type": "execute_result"
    }
   ],
   "source": [
    "len(l)"
   ]
  },
  {
   "cell_type": "code",
   "execution_count": 23,
   "metadata": {},
   "outputs": [],
   "source": [
    "import numpy as np\n",
    "import pandas as pd\n",
    "from keras.preprocessing.text import Tokenizer\n",
    "from keras.preprocessing.text import text_to_word_sequence\n",
    "import os\n",
    "from tqdm import tqdm\n",
    "import re\n",
    "from keras.preprocessing.sequence import pad_sequences\n",
    "import tensorflow as tf\n",
    "from datetime import datetime"
   ]
  },
  {
   "cell_type": "code",
   "execution_count": 17,
   "metadata": {},
   "outputs": [],
   "source": [
    "MAX_WORD_TO_USE = 10000 # how many words to use in training\n",
    "MAX_LEN = 80 # number of time-steps.\n",
    "EMBED_SIZE = 100 #GLoVe 100-D\n",
    "batchSize = 128 # how many samples to feed neural network\n",
    "GRU_UNITS = 256 # Number of nodes in GRU Layer\n",
    "numClasses = 2 #{Positive,Negative}\n",
    "iterations = 100000 # How many iterations to train\n",
    "nodes_on_FC = 64 # Number of nodes on FC layer\n",
    "epsilon = 1e-4# For batch normalization\n",
    "val_loop_iter = 50 # in how many iters we record"
   ]
  },
  {
   "cell_type": "code",
   "execution_count": 37,
   "metadata": {},
   "outputs": [],
   "source": [
    "# train['Comment'] = train['Comment'].apply(lambda x: ' '.join( text_to_word_sequence(x) ) )\n",
    "# test['Comment'] = test['Comment'].apply(lambda x: ' '.join( text_to_word_sequence(x) ) )"
   ]
  },
  {
   "cell_type": "code",
   "execution_count": 25,
   "metadata": {},
   "outputs": [
    {
     "name": "stdout",
     "output_type": "stream",
     "text": [
      "Found 18179 unique tokens.\n"
     ]
    }
   ],
   "source": [
    "from keras.preprocessing.text import Tokenizer\n",
    "MAX_NB_WORDS = 50000\n",
    "# Max number of words in each complaint.\n",
    "MAX_SEQUENCE_LENGTH = 250\n",
    "# This is fixed.\n",
    "EMBEDDING_DIM = 100\n",
    "tokenizer = Tokenizer(num_words=MAX_NB_WORDS, filters='!\"#$%&()*+,-./:;<=>?@[\\]^_`{|}~', lower=True)\n",
    "tokenizer.fit_on_texts(df1['Comment'].values)\n",
    "word_index = tokenizer.word_index\n",
    "print('Found %s unique tokens.' % len(word_index))"
   ]
  },
  {
   "cell_type": "code",
   "execution_count": 26,
   "metadata": {},
   "outputs": [
    {
     "name": "stdout",
     "output_type": "stream",
     "text": [
      "Shape of data tensor: (3947, 250)\n"
     ]
    }
   ],
   "source": [
    "\n",
    "## Tokenize the sentences\n",
    "from  keras.preprocessing.sequence import pad_sequences\n",
    "X = tokenizer.texts_to_sequences(df1['Comment'].values)\n",
    "X = pad_sequences(X, maxlen=MAX_SEQUENCE_LENGTH)\n",
    "print('Shape of data tensor:', X.shape)"
   ]
  },
  {
   "cell_type": "code",
   "execution_count": 27,
   "metadata": {},
   "outputs": [
    {
     "name": "stdout",
     "output_type": "stream",
     "text": [
      "Shape of label tensor: (3947, 2)\n"
     ]
    }
   ],
   "source": [
    "Y = pd.get_dummies(df1['Insult']).values\n",
    "print('Shape of label tensor:', Y.shape)\n"
   ]
  },
  {
   "cell_type": "code",
   "execution_count": 28,
   "metadata": {},
   "outputs": [
    {
     "data": {
      "text/html": [
       "        <script type=\"text/javascript\">\n",
       "        window.PlotlyConfig = {MathJaxConfig: 'local'};\n",
       "        if (window.MathJax) {MathJax.Hub.Config({SVG: {font: \"STIX-Web\"}});}\n",
       "        if (typeof require !== 'undefined') {\n",
       "        require.undef(\"plotly\");\n",
       "        requirejs.config({\n",
       "            paths: {\n",
       "                'plotly': ['https://cdn.plot.ly/plotly-latest.min']\n",
       "            }\n",
       "        });\n",
       "        require(['plotly'], function(Plotly) {\n",
       "            window._Plotly = Plotly;\n",
       "        });\n",
       "        }\n",
       "        </script>\n",
       "        "
      ]
     },
     "metadata": {},
     "output_type": "display_data"
    }
   ],
   "source": [
    "import seaborn as sns\n",
    "from keras.preprocessing.text import Tokenizer\n",
    "from keras.preprocessing.sequence import pad_sequences\n",
    "from keras.models import Sequential\n",
    "from keras.layers import Dense, Embedding, LSTM, SpatialDropout1D,GRU\n",
    "from sklearn.model_selection import train_test_split\n",
    "from keras.utils.np_utils import to_categorical\n",
    "from keras.callbacks import EarlyStopping\n",
    "from keras.layers import Dropout\n",
    "import re\n",
    "from nltk.corpus import stopwords\n",
    "from nltk import word_tokenize\n",
    "STOPWORDS = set(stopwords.words('english'))\n",
    "from bs4 import BeautifulSoup\n",
    "import plotly.graph_objs as go\n",
    "# import plotly.plotly as py\n",
    "import cufflinks\n",
    "from IPython.core.interactiveshell import InteractiveShell\n",
    "import plotly.figure_factory as ff\n",
    "InteractiveShell.ast_node_interactivity = 'all'\n",
    "from plotly.offline import iplot\n",
    "cufflinks.go_offline()\n",
    "cufflinks.set_config_file(world_readable=True, theme='pearl')"
   ]
  },
  {
   "cell_type": "code",
   "execution_count": 29,
   "metadata": {},
   "outputs": [
    {
     "name": "stdout",
     "output_type": "stream",
     "text": [
      "(3552, 250) (3552, 2)\n",
      "(395, 250) (395, 2)\n"
     ]
    }
   ],
   "source": [
    "X_train, X_test, Y_train, Y_test = train_test_split(X,Y, test_size = 0.10)\n",
    "print(X_train.shape,Y_train.shape)\n",
    "print(X_test.shape,Y_test.shape)\n"
   ]
  },
  {
   "cell_type": "code",
   "execution_count": 30,
   "metadata": {},
   "outputs": [
    {
     "name": "stderr",
     "output_type": "stream",
     "text": [
      "C:\\Users\\hedi\\AppData\\Roaming\\Python\\Python37\\site-packages\\tensorflow_core\\python\\framework\\indexed_slices.py:433: UserWarning:\n",
      "\n",
      "Converting sparse IndexedSlices to a dense Tensor of unknown shape. This may consume a large amount of memory.\n",
      "\n"
     ]
    },
    {
     "name": "stdout",
     "output_type": "stream",
     "text": [
      "Train on 3196 samples, validate on 356 samples\n",
      "Epoch 1/5\n",
      "3196/3196 [==============================] - ETA: 14:42 - loss: 0.6943 - accuracy: 0.500 - ETA: 7:23 - loss: 0.6900 - accuracy: 0.601 - ETA: 4:57 - loss: 0.6872 - accuracy: 0.63 - ETA: 3:43 - loss: 0.6849 - accuracy: 0.64 - ETA: 2:59 - loss: 0.6806 - accuracy: 0.67 - ETA: 2:30 - loss: 0.6802 - accuracy: 0.66 - ETA: 2:08 - loss: 0.6777 - accuracy: 0.66 - ETA: 1:52 - loss: 0.6737 - accuracy: 0.67 - ETA: 1:39 - loss: 0.6720 - accuracy: 0.67 - ETA: 1:29 - loss: 0.6685 - accuracy: 0.67 - ETA: 1:20 - loss: 0.6655 - accuracy: 0.67 - ETA: 1:13 - loss: 0.6630 - accuracy: 0.67 - ETA: 1:07 - loss: 0.6523 - accuracy: 0.69 - ETA: 1:02 - loss: 0.6488 - accuracy: 0.69 - ETA: 57s - loss: 0.6473 - accuracy: 0.6906 - ETA: 53s - loss: 0.6443 - accuracy: 0.692 - ETA: 49s - loss: 0.6390 - accuracy: 0.696 - ETA: 46s - loss: 0.6294 - accuracy: 0.704 - ETA: 42s - loss: 0.6193 - accuracy: 0.711 - ETA: 40s - loss: 0.6172 - accuracy: 0.712 - ETA: 37s - loss: 0.6136 - accuracy: 0.714 - ETA: 35s - loss: 0.6157 - accuracy: 0.712 - ETA: 33s - loss: 0.6103 - accuracy: 0.716 - ETA: 30s - loss: 0.6056 - accuracy: 0.718 - ETA: 29s - loss: 0.6043 - accuracy: 0.718 - ETA: 27s - loss: 0.6037 - accuracy: 0.718 - ETA: 25s - loss: 0.6016 - accuracy: 0.718 - ETA: 24s - loss: 0.6005 - accuracy: 0.717 - ETA: 22s - loss: 0.5974 - accuracy: 0.719 - ETA: 21s - loss: 0.5951 - accuracy: 0.721 - ETA: 19s - loss: 0.5912 - accuracy: 0.724 - ETA: 18s - loss: 0.5900 - accuracy: 0.724 - ETA: 16s - loss: 0.5866 - accuracy: 0.726 - ETA: 15s - loss: 0.5866 - accuracy: 0.725 - ETA: 14s - loss: 0.5858 - accuracy: 0.724 - ETA: 13s - loss: 0.5817 - accuracy: 0.727 - ETA: 12s - loss: 0.5805 - accuracy: 0.728 - ETA: 11s - loss: 0.5799 - accuracy: 0.727 - ETA: 9s - loss: 0.5795 - accuracy: 0.727 - ETA: 8s - loss: 0.5783 - accuracy: 0.72 - ETA: 7s - loss: 0.5803 - accuracy: 0.72 - ETA: 6s - loss: 0.5806 - accuracy: 0.72 - ETA: 6s - loss: 0.5786 - accuracy: 0.72 - ETA: 5s - loss: 0.5761 - accuracy: 0.72 - ETA: 4s - loss: 0.5748 - accuracy: 0.72 - ETA: 3s - loss: 0.5720 - accuracy: 0.72 - ETA: 2s - loss: 0.5694 - accuracy: 0.72 - ETA: 1s - loss: 0.5662 - accuracy: 0.73 - ETA: 0s - loss: 0.5636 - accuracy: 0.73 - 44s 14ms/step - loss: 0.5616 - accuracy: 0.7353 - val_loss: 0.5104 - val_accuracy: 0.7556\n",
      "Epoch 2/5\n",
      "3196/3196 [==============================] - ETA: 20s - loss: 0.3204 - accuracy: 0.875 - ETA: 20s - loss: 0.3642 - accuracy: 0.843 - ETA: 19s - loss: 0.3667 - accuracy: 0.854 - ETA: 19s - loss: 0.3794 - accuracy: 0.835 - ETA: 19s - loss: 0.3788 - accuracy: 0.831 - ETA: 18s - loss: 0.3738 - accuracy: 0.830 - ETA: 18s - loss: 0.3723 - accuracy: 0.828 - ETA: 17s - loss: 0.3622 - accuracy: 0.834 - ETA: 17s - loss: 0.3588 - accuracy: 0.831 - ETA: 17s - loss: 0.3639 - accuracy: 0.828 - ETA: 16s - loss: 0.3597 - accuracy: 0.831 - ETA: 16s - loss: 0.3663 - accuracy: 0.825 - ETA: 15s - loss: 0.3641 - accuracy: 0.826 - ETA: 15s - loss: 0.3671 - accuracy: 0.823 - ETA: 14s - loss: 0.3676 - accuracy: 0.826 - ETA: 14s - loss: 0.3667 - accuracy: 0.828 - ETA: 14s - loss: 0.3675 - accuracy: 0.828 - ETA: 13s - loss: 0.3654 - accuracy: 0.829 - ETA: 13s - loss: 0.3590 - accuracy: 0.835 - ETA: 12s - loss: 0.3572 - accuracy: 0.835 - ETA: 12s - loss: 0.3592 - accuracy: 0.834 - ETA: 11s - loss: 0.3536 - accuracy: 0.835 - ETA: 11s - loss: 0.3483 - accuracy: 0.838 - ETA: 11s - loss: 0.3475 - accuracy: 0.837 - ETA: 10s - loss: 0.3455 - accuracy: 0.840 - ETA: 10s - loss: 0.3403 - accuracy: 0.843 - ETA: 9s - loss: 0.3394 - accuracy: 0.846 - ETA: 9s - loss: 0.3413 - accuracy: 0.84 - ETA: 9s - loss: 0.3424 - accuracy: 0.84 - ETA: 8s - loss: 0.3404 - accuracy: 0.84 - ETA: 8s - loss: 0.3429 - accuracy: 0.84 - ETA: 7s - loss: 0.3424 - accuracy: 0.84 - ETA: 7s - loss: 0.3402 - accuracy: 0.84 - ETA: 6s - loss: 0.3390 - accuracy: 0.84 - ETA: 6s - loss: 0.3357 - accuracy: 0.85 - ETA: 6s - loss: 0.3326 - accuracy: 0.85 - ETA: 5s - loss: 0.3284 - accuracy: 0.85 - ETA: 5s - loss: 0.3254 - accuracy: 0.85 - ETA: 4s - loss: 0.3241 - accuracy: 0.85 - ETA: 4s - loss: 0.3259 - accuracy: 0.85 - ETA: 3s - loss: 0.3234 - accuracy: 0.85 - ETA: 3s - loss: 0.3238 - accuracy: 0.85 - ETA: 3s - loss: 0.3220 - accuracy: 0.85 - ETA: 2s - loss: 0.3202 - accuracy: 0.86 - ETA: 2s - loss: 0.3203 - accuracy: 0.86 - ETA: 1s - loss: 0.3223 - accuracy: 0.85 - ETA: 1s - loss: 0.3223 - accuracy: 0.85 - ETA: 0s - loss: 0.3212 - accuracy: 0.85 - ETA: 0s - loss: 0.3188 - accuracy: 0.86 - 22s 7ms/step - loss: 0.3172 - accuracy: 0.8611 - val_loss: 0.4851 - val_accuracy: 0.7725\n",
      "Epoch 3/5\n",
      "3196/3196 [==============================] - ETA: 21s - loss: 0.1848 - accuracy: 0.953 - ETA: 20s - loss: 0.1986 - accuracy: 0.937 - ETA: 20s - loss: 0.1888 - accuracy: 0.937 - ETA: 19s - loss: 0.1668 - accuracy: 0.949 - ETA: 19s - loss: 0.1496 - accuracy: 0.953 - ETA: 18s - loss: 0.1475 - accuracy: 0.955 - ETA: 18s - loss: 0.1546 - accuracy: 0.946 - ETA: 17s - loss: 0.1605 - accuracy: 0.939 - ETA: 17s - loss: 0.1649 - accuracy: 0.937 - ETA: 17s - loss: 0.1715 - accuracy: 0.934 - ETA: 16s - loss: 0.1685 - accuracy: 0.937 - ETA: 16s - loss: 0.1620 - accuracy: 0.941 - ETA: 15s - loss: 0.1562 - accuracy: 0.944 - ETA: 15s - loss: 0.1549 - accuracy: 0.945 - ETA: 15s - loss: 0.1533 - accuracy: 0.947 - ETA: 14s - loss: 0.1528 - accuracy: 0.949 - ETA: 14s - loss: 0.1521 - accuracy: 0.949 - ETA: 13s - loss: 0.1534 - accuracy: 0.947 - ETA: 13s - loss: 0.1497 - accuracy: 0.949 - ETA: 12s - loss: 0.1567 - accuracy: 0.945 - ETA: 12s - loss: 0.1581 - accuracy: 0.944 - ETA: 12s - loss: 0.1567 - accuracy: 0.945 - ETA: 11s - loss: 0.1596 - accuracy: 0.942 - ETA: 11s - loss: 0.1584 - accuracy: 0.942 - ETA: 10s - loss: 0.1606 - accuracy: 0.940 - ETA: 10s - loss: 0.1594 - accuracy: 0.940 - ETA: 9s - loss: 0.1552 - accuracy: 0.942 - ETA: 9s - loss: 0.1526 - accuracy: 0.94 - ETA: 9s - loss: 0.1520 - accuracy: 0.94 - ETA: 8s - loss: 0.1494 - accuracy: 0.94 - ETA: 8s - loss: 0.1469 - accuracy: 0.94 - ETA: 7s - loss: 0.1487 - accuracy: 0.94 - ETA: 7s - loss: 0.1481 - accuracy: 0.94 - ETA: 6s - loss: 0.1508 - accuracy: 0.94 - ETA: 6s - loss: 0.1486 - accuracy: 0.94 - ETA: 6s - loss: 0.1480 - accuracy: 0.94 - ETA: 5s - loss: 0.1460 - accuracy: 0.94 - ETA: 5s - loss: 0.1465 - accuracy: 0.94 - ETA: 4s - loss: 0.1446 - accuracy: 0.94 - ETA: 4s - loss: 0.1433 - accuracy: 0.94 - ETA: 3s - loss: 0.1429 - accuracy: 0.94 - ETA: 3s - loss: 0.1426 - accuracy: 0.94 - ETA: 3s - loss: 0.1424 - accuracy: 0.94 - ETA: 2s - loss: 0.1412 - accuracy: 0.94 - ETA: 2s - loss: 0.1435 - accuracy: 0.94 - ETA: 1s - loss: 0.1428 - accuracy: 0.94 - ETA: 1s - loss: 0.1425 - accuracy: 0.94 - ETA: 0s - loss: 0.1433 - accuracy: 0.94 - ETA: 0s - loss: 0.1433 - accuracy: 0.94 - 22s 7ms/step - loss: 0.1429 - accuracy: 0.9462 - val_loss: 0.6551 - val_accuracy: 0.7612\n",
      "Epoch 4/5\n",
      "3196/3196 [==============================] - ETA: 21s - loss: 0.0728 - accuracy: 0.968 - ETA: 21s - loss: 0.0593 - accuracy: 0.984 - ETA: 21s - loss: 0.0583 - accuracy: 0.984 - ETA: 21s - loss: 0.0580 - accuracy: 0.984 - ETA: 21s - loss: 0.0554 - accuracy: 0.987 - ETA: 20s - loss: 0.0546 - accuracy: 0.987 - ETA: 19s - loss: 0.0509 - accuracy: 0.986 - ETA: 19s - loss: 0.0649 - accuracy: 0.980 - ETA: 18s - loss: 0.0901 - accuracy: 0.979 - ETA: 18s - loss: 0.0825 - accuracy: 0.981 - ETA: 17s - loss: 0.0759 - accuracy: 0.983 - ETA: 17s - loss: 0.0729 - accuracy: 0.984 - ETA: 17s - loss: 0.0694 - accuracy: 0.985 - ETA: 16s - loss: 0.0714 - accuracy: 0.983 - ETA: 16s - loss: 0.0710 - accuracy: 0.982 - ETA: 16s - loss: 0.0701 - accuracy: 0.983 - ETA: 15s - loss: 0.0688 - accuracy: 0.984 - ETA: 15s - loss: 0.0689 - accuracy: 0.984 - ETA: 14s - loss: 0.0685 - accuracy: 0.983 - ETA: 13s - loss: 0.0677 - accuracy: 0.984 - ETA: 13s - loss: 0.0675 - accuracy: 0.984 - ETA: 12s - loss: 0.0670 - accuracy: 0.984 - ETA: 12s - loss: 0.0679 - accuracy: 0.983 - ETA: 11s - loss: 0.0670 - accuracy: 0.983 - ETA: 11s - loss: 0.0673 - accuracy: 0.983 - ETA: 11s - loss: 0.0666 - accuracy: 0.984 - ETA: 10s - loss: 0.0656 - accuracy: 0.985 - ETA: 10s - loss: 0.0652 - accuracy: 0.984 - ETA: 9s - loss: 0.0662 - accuracy: 0.984 - ETA: 9s - loss: 0.0660 - accuracy: 0.98 - ETA: 8s - loss: 0.0663 - accuracy: 0.98 - ETA: 8s - loss: 0.0653 - accuracy: 0.98 - ETA: 7s - loss: 0.0654 - accuracy: 0.98 - ETA: 7s - loss: 0.0656 - accuracy: 0.98 - ETA: 6s - loss: 0.0646 - accuracy: 0.98 - ETA: 6s - loss: 0.0646 - accuracy: 0.98 - ETA: 6s - loss: 0.0636 - accuracy: 0.98 - ETA: 5s - loss: 0.0647 - accuracy: 0.98 - ETA: 5s - loss: 0.0642 - accuracy: 0.98 - ETA: 4s - loss: 0.0660 - accuracy: 0.98 - ETA: 4s - loss: 0.0657 - accuracy: 0.98 - ETA: 3s - loss: 0.0649 - accuracy: 0.98 - ETA: 3s - loss: 0.0653 - accuracy: 0.98 - ETA: 2s - loss: 0.0658 - accuracy: 0.98 - ETA: 2s - loss: 0.0675 - accuracy: 0.97 - ETA: 1s - loss: 0.0667 - accuracy: 0.97 - ETA: 1s - loss: 0.0664 - accuracy: 0.97 - ETA: 0s - loss: 0.0678 - accuracy: 0.97 - ETA: 0s - loss: 0.0690 - accuracy: 0.97 - 24s 7ms/step - loss: 0.0684 - accuracy: 0.9790 - val_loss: 0.7204 - val_accuracy: 0.7949\n",
      "Epoch 5/5\n",
      "3196/3196 [==============================] - ETA: 20s - loss: 0.0222 - accuracy: 1.000 - ETA: 20s - loss: 0.0149 - accuracy: 1.000 - ETA: 20s - loss: 0.0140 - accuracy: 1.000 - ETA: 20s - loss: 0.0117 - accuracy: 1.000 - ETA: 20s - loss: 0.0157 - accuracy: 0.996 - ETA: 20s - loss: 0.0205 - accuracy: 0.994 - ETA: 20s - loss: 0.0210 - accuracy: 0.995 - ETA: 20s - loss: 0.0227 - accuracy: 0.994 - ETA: 20s - loss: 0.0268 - accuracy: 0.993 - ETA: 19s - loss: 0.0271 - accuracy: 0.992 - ETA: 19s - loss: 0.0316 - accuracy: 0.990 - ETA: 18s - loss: 0.0321 - accuracy: 0.989 - ETA: 18s - loss: 0.0308 - accuracy: 0.990 - ETA: 17s - loss: 0.0304 - accuracy: 0.991 - ETA: 17s - loss: 0.0308 - accuracy: 0.990 - ETA: 16s - loss: 0.0338 - accuracy: 0.988 - ETA: 15s - loss: 0.0329 - accuracy: 0.989 - ETA: 15s - loss: 0.0337 - accuracy: 0.989 - ETA: 14s - loss: 0.0347 - accuracy: 0.989 - ETA: 14s - loss: 0.0353 - accuracy: 0.988 - ETA: 13s - loss: 0.0344 - accuracy: 0.988 - ETA: 13s - loss: 0.0353 - accuracy: 0.987 - ETA: 12s - loss: 0.0369 - accuracy: 0.987 - ETA: 12s - loss: 0.0368 - accuracy: 0.987 - ETA: 12s - loss: 0.0357 - accuracy: 0.988 - ETA: 11s - loss: 0.0346 - accuracy: 0.988 - ETA: 11s - loss: 0.0344 - accuracy: 0.988 - ETA: 10s - loss: 0.0342 - accuracy: 0.988 - ETA: 10s - loss: 0.0331 - accuracy: 0.988 - ETA: 9s - loss: 0.0338 - accuracy: 0.988 - ETA: 9s - loss: 0.0331 - accuracy: 0.98 - ETA: 8s - loss: 0.0326 - accuracy: 0.98 - ETA: 8s - loss: 0.0321 - accuracy: 0.98 - ETA: 7s - loss: 0.0316 - accuracy: 0.98 - ETA: 7s - loss: 0.0315 - accuracy: 0.98 - ETA: 6s - loss: 0.0313 - accuracy: 0.98 - ETA: 6s - loss: 0.0310 - accuracy: 0.98 - ETA: 5s - loss: 0.0303 - accuracy: 0.99 - ETA: 5s - loss: 0.0298 - accuracy: 0.99 - ETA: 4s - loss: 0.0296 - accuracy: 0.99 - ETA: 4s - loss: 0.0302 - accuracy: 0.99 - ETA: 3s - loss: 0.0298 - accuracy: 0.99 - ETA: 3s - loss: 0.0294 - accuracy: 0.99 - ETA: 2s - loss: 0.0312 - accuracy: 0.98 - ETA: 2s - loss: 0.0310 - accuracy: 0.98 - ETA: 1s - loss: 0.0308 - accuracy: 0.98 - ETA: 1s - loss: 0.0314 - accuracy: 0.98 - ETA: 0s - loss: 0.0313 - accuracy: 0.98 - ETA: 0s - loss: 0.0313 - accuracy: 0.98 - 24s 8ms/step - loss: 0.0314 - accuracy: 0.9887 - val_loss: 0.8504 - val_accuracy: 0.7865\n"
     ]
    }
   ],
   "source": [
    "from keras.layers import Bidirectional\n",
    "model = Sequential()\n",
    "model.add(Embedding(MAX_NB_WORDS, EMBEDDING_DIM, input_length=X.shape[1]))\n",
    "model.add(SpatialDropout1D(0.2))\n",
    "# model.add(Bidirectional(LSTM(100)))\n",
    "model.add(GRU(128,unroll=True))\n",
    "model.add(Dense(2, activation='softmax'))\n",
    "model.compile(loss='categorical_crossentropy', optimizer='adam', metrics=['accuracy'])\n",
    "\n",
    "epochs = 5\n",
    "batch_size = 64\n",
    "\n",
    "history = model.fit(X_train, Y_train, epochs=epochs, batch_size=batch_size,validation_split=0.1,callbacks=[EarlyStopping(monitor='val_loss', patience=3, min_delta=0.0001)])"
   ]
  },
  {
   "cell_type": "code",
   "execution_count": 31,
   "metadata": {},
   "outputs": [
    {
     "name": "stdout",
     "output_type": "stream",
     "text": [
      "395/395 [==============================] - ETA:  - ETA:  - ETA:  - ETA:  - ETA:  - ETA:  - ETA:  - ETA:  - ETA:  - ETA:  - ETA:  - ETA:  - 1s 2ms/step\n",
      "Test set\n",
      "  Loss: 0.980\n",
      "  Accuracy: 0.754\n"
     ]
    }
   ],
   "source": [
    "accr = model.evaluate(X_test,Y_test)\n",
    "print('Test set\\n  Loss: {:0.3f}\\n  Accuracy: {:0.3f}'.format(accr[0],accr[1]))\n"
   ]
  },
  {
   "cell_type": "code",
   "execution_count": 36,
   "metadata": {},
   "outputs": [
    {
     "data": {
      "image/png": "[encoded data removed]",
      "text/plain": [
       "<Figure size 432x288 with 1 Axes>"
      ]
     },
     "metadata": {
      "needs_background": "light"
     },
     "output_type": "display_data"
    }
   ],
   "source": [
    "plt.title('Accuracy')\n",
    "plt.plot(history.history['accuracy'], label='train')\n",
    "plt.plot(history.history['val_accuracy'], label='test')\n",
    "plt.legend()\n",
    "plt.show();"
   ]
  },
  {
   "cell_type": "code",
   "execution_count": 41,
   "metadata": {},
   "outputs": [
    {
     "data": {
      "text/plain": [
       "array([[    0,     0,     0, ...,   267,    33,  1557],\n",
       "       [    0,     0,     0, ...,   122,  1004,   615],\n",
       "       [    0,     0,     0, ...,     4,   295,   494],\n",
       "       ...,\n",
       "       [    0,     0,     0, ...,    13,     7,   322],\n",
       "       [    0,     0,     0, ...,   550,    12,  2999],\n",
       "       [    0,     0,     0, ..., 14487,    53,  1579]])"
      ]
     },
     "execution_count": 41,
     "metadata": {},
     "output_type": "execute_result"
    }
   ],
   "source": [
    "X_train"
   ]
  },
  {
   "cell_type": "code",
   "execution_count": 6,
   "metadata": {},
   "outputs": [
    {
     "ename": "NameError",
     "evalue": "name 'ind_to_vec' is not defined",
     "output_type": "error",
     "traceback": [
      "\u001b[1;31m---------------------------------------------------------------------------\u001b[0m",
      "\u001b[1;31mNameError\u001b[0m                                 Traceback (most recent call last)",
      "\u001b[1;32m<ipython-input-6-3e4be6276ea9>\u001b[0m in \u001b[0;36m<module>\u001b[1;34m\u001b[0m\n\u001b[1;32m----> 1\u001b[1;33m \u001b[0mKERAS\u001b[0m\u001b[1;33m(\u001b[0m\u001b[1;33m)\u001b[0m\u001b[1;33m\u001b[0m\u001b[1;33m\u001b[0m\u001b[0m\n\u001b[0m",
      "\u001b[1;32m<ipython-input-5-86a69700abb5>\u001b[0m in \u001b[0;36mKERAS\u001b[1;34m()\u001b[0m\n\u001b[0;32m      1\u001b[0m \u001b[1;32mdef\u001b[0m \u001b[0mKERAS\u001b[0m\u001b[1;33m(\u001b[0m\u001b[1;33m)\u001b[0m\u001b[1;33m:\u001b[0m\u001b[1;33m\u001b[0m\u001b[1;33m\u001b[0m\u001b[0m\n\u001b[0;32m      2\u001b[0m     \u001b[0mmodel\u001b[0m \u001b[1;33m=\u001b[0m \u001b[0mSequential\u001b[0m\u001b[1;33m(\u001b[0m\u001b[1;33m)\u001b[0m\u001b[1;33m\u001b[0m\u001b[1;33m\u001b[0m\u001b[0m\n\u001b[1;32m----> 3\u001b[1;33m     model.add(Embedding(input_dim=len(ind_to_vec), output_dim=EMBEDDING_DIM,\n\u001b[0m\u001b[0;32m      4\u001b[0m                       weights=[ind_to_vec], input_length=MAX_SEQUENCE_LENGTH))\n\u001b[0;32m      5\u001b[0m \u001b[1;33m\u001b[0m\u001b[0m\n",
      "\u001b[1;31mNameError\u001b[0m: name 'ind_to_vec' is not defined"
     ]
    }
   ],
   "source": [
    "KERAS()"
   ]
  },
  {
   "cell_type": "code",
   "execution_count": null,
   "metadata": {},
   "outputs": [],
   "source": []
  },
  {
   "cell_type": "code",
   "execution_count": null,
   "metadata": {},
   "outputs": [],
   "source": []
  },
  {
   "cell_type": "code",
   "execution_count": null,
   "metadata": {},
   "outputs": [],
   "source": []
  },
  {
   "cell_type": "code",
   "execution_count": null,
   "metadata": {},
   "outputs": [],
   "source": []
  },
  {
   "cell_type": "code",
   "execution_count": null,
   "metadata": {},
   "outputs": [],
   "source": []
  },
  {
   "cell_type": "code",
   "execution_count": 42,
   "metadata": {},
   "outputs": [
    {
     "data": {
      "text/plain": [
       "Pipeline(memory=None,\n",
       "         steps=[('vect',\n",
       "                 CountVectorizer(analyzer='word', binary=False,\n",
       "                                 decode_error='strict',\n",
       "                                 dtype=<class 'numpy.int64'>, encoding='utf-8',\n",
       "                                 input='content', lowercase=True, max_df=1.0,\n",
       "                                 max_features=None, min_df=1,\n",
       "                                 ngram_range=(1, 1), preprocessor=None,\n",
       "                                 stop_words=None, strip_accents=None,\n",
       "                                 token_pattern='(?u)\\\\b\\\\w\\\\w+\\\\b',\n",
       "                                 tokenizer=None, vocabulary=None)),\n",
       "                ('tfidf',\n",
       "                 TfidfTransformer(norm='l2', smooth_idf=True,\n",
       "                                  sublinear_tf=False, use_idf=True)),\n",
       "                ('clf',\n",
       "                 MultinomialNB(alpha=1.0, class_prior=None, fit_prior=True))],\n",
       "         verbose=False)"
      ]
     },
     "execution_count": 42,
     "metadata": {},
     "output_type": "execute_result"
    },
    {
     "name": "stdout",
     "output_type": "stream",
     "text": [
      "accuracy 0.740506329113924\n",
      "              precision    recall  f1-score   support\n",
      "\n",
      "           0       0.74      1.00      0.85       575\n",
      "           1       1.00      0.05      0.09       215\n",
      "\n",
      "    accuracy                           0.74       790\n",
      "   macro avg       0.87      0.52      0.47       790\n",
      "weighted avg       0.81      0.74      0.64       790\n",
      "\n"
     ]
    }
   ],
   "source": [
    "#linearsvc\n",
    "#perform well\n",
    "from sklearn.feature_extraction.text import CountVectorizer\n",
    "from sklearn.feature_extraction.text import TfidfTransformer\n",
    "from sklearn.svm import LinearSVC\n",
    "\n",
    "text_train, text_test, y_train, y_test = train_test_split(df1[\"Comment\"], df1[\"Insult\"], \n",
    "    test_size=0.2)\n",
    "vect = CountVectorizer(ngram_range=(1, 2),stop_words=None,lowercase=True,max_df=0.8, min_df=20)\n",
    "tfidf = TfidfTransformer()\n",
    "clf = LinearSVC(C=5000.0)\n",
    "\n",
    "from sklearn.metrics import accuracy_score, confusion_matrix\n",
    "from sklearn.naive_bayes import MultinomialNB\n",
    "from sklearn.pipeline import Pipeline\n",
    "from sklearn.feature_extraction.text import TfidfTransformer\n",
    "\n",
    "nb = Pipeline([('vect', CountVectorizer()),\n",
    "               ('tfidf', TfidfTransformer()),\n",
    "               ('clf', MultinomialNB()),\n",
    "              ])\n",
    "nb.fit(text_train, y_train)\n",
    "\n",
    "# %%time\n",
    "from sklearn.metrics import classification_report\n",
    "y_pred = nb.predict(text_test)\n",
    "\n",
    "print('accuracy %s' % accuracy_score(y_pred, y_test))\n",
    "print(classification_report(y_test, y_pred))"
   ]
  },
  {
   "cell_type": "code",
   "execution_count": 2,
   "metadata": {},
   "outputs": [],
   "source": [
    "df=pd.read_csv('train_preprocessed.csv')"
   ]
  },
  {
   "cell_type": "code",
   "execution_count": 3,
   "metadata": {},
   "outputs": [
    {
     "name": "stdout",
     "output_type": "stream",
     "text": [
      "<class 'pandas.core.frame.DataFrame'>\n",
      "RangeIndex: 159571 entries, 0 to 159570\n",
      "Data columns (total 10 columns):\n",
      "comment_text     159571 non-null object\n",
      "id               159571 non-null object\n",
      "identity_hate    159571 non-null float64\n",
      "insult           159571 non-null float64\n",
      "obscene          159571 non-null float64\n",
      "set              159571 non-null object\n",
      "severe_toxic     159571 non-null float64\n",
      "threat           159571 non-null float64\n",
      "toxic            159571 non-null float64\n",
      "toxicity         159571 non-null float64\n",
      "dtypes: float64(7), object(3)\n",
      "memory usage: 12.2+ MB\n"
     ]
    }
   ],
   "source": [
    "df.info()"
   ]
  },
  {
   "cell_type": "code",
   "execution_count": 46,
   "metadata": {},
   "outputs": [
    {
     "data": {
      "text/html": [
       "<div>\n",
       "<style scoped>\n",
       "    .dataframe tbody tr th:only-of-type {\n",
       "        vertical-align: middle;\n",
       "    }\n",
       "\n",
       "    .dataframe tbody tr th {\n",
       "        vertical-align: top;\n",
       "    }\n",
       "\n",
       "    .dataframe thead th {\n",
       "        text-align: right;\n",
       "    }\n",
       "</style>\n",
       "<table border=\"1\" class=\"dataframe\">\n",
       "  <thead>\n",
       "    <tr style=\"text-align: right;\">\n",
       "      <th></th>\n",
       "      <th>comment_text</th>\n",
       "      <th>id</th>\n",
       "      <th>identity_hate</th>\n",
       "      <th>insult</th>\n",
       "      <th>obscene</th>\n",
       "      <th>set</th>\n",
       "      <th>severe_toxic</th>\n",
       "      <th>threat</th>\n",
       "      <th>toxic</th>\n",
       "      <th>toxicity</th>\n",
       "    </tr>\n",
       "  </thead>\n",
       "  <tbody>\n",
       "    <tr>\n",
       "      <td>0</td>\n",
       "      <td>explanation why the edits made under my userna...</td>\n",
       "      <td>0000997932d777bf</td>\n",
       "      <td>0.0</td>\n",
       "      <td>0.0</td>\n",
       "      <td>0.0</td>\n",
       "      <td>train</td>\n",
       "      <td>0.0</td>\n",
       "      <td>0.0</td>\n",
       "      <td>0.0</td>\n",
       "      <td>0.0</td>\n",
       "    </tr>\n",
       "    <tr>\n",
       "      <td>1</td>\n",
       "      <td>d aww  he matches this background colour i m s...</td>\n",
       "      <td>000103f0d9cfb60f</td>\n",
       "      <td>0.0</td>\n",
       "      <td>0.0</td>\n",
       "      <td>0.0</td>\n",
       "      <td>train</td>\n",
       "      <td>0.0</td>\n",
       "      <td>0.0</td>\n",
       "      <td>0.0</td>\n",
       "      <td>0.0</td>\n",
       "    </tr>\n",
       "    <tr>\n",
       "      <td>2</td>\n",
       "      <td>hey man  i m really not trying to edit war  it...</td>\n",
       "      <td>000113f07ec002fd</td>\n",
       "      <td>0.0</td>\n",
       "      <td>0.0</td>\n",
       "      <td>0.0</td>\n",
       "      <td>train</td>\n",
       "      <td>0.0</td>\n",
       "      <td>0.0</td>\n",
       "      <td>0.0</td>\n",
       "      <td>0.0</td>\n",
       "    </tr>\n",
       "    <tr>\n",
       "      <td>3</td>\n",
       "      <td>more i can t make any real suggestions on im...</td>\n",
       "      <td>0001b41b1c6bb37e</td>\n",
       "      <td>0.0</td>\n",
       "      <td>0.0</td>\n",
       "      <td>0.0</td>\n",
       "      <td>train</td>\n",
       "      <td>0.0</td>\n",
       "      <td>0.0</td>\n",
       "      <td>0.0</td>\n",
       "      <td>0.0</td>\n",
       "    </tr>\n",
       "    <tr>\n",
       "      <td>4</td>\n",
       "      <td>you  sir  are my hero  any chance you remember...</td>\n",
       "      <td>0001d958c54c6e35</td>\n",
       "      <td>0.0</td>\n",
       "      <td>0.0</td>\n",
       "      <td>0.0</td>\n",
       "      <td>train</td>\n",
       "      <td>0.0</td>\n",
       "      <td>0.0</td>\n",
       "      <td>0.0</td>\n",
       "      <td>0.0</td>\n",
       "    </tr>\n",
       "  </tbody>\n",
       "</table>\n",
       "</div>"
      ],
      "text/plain": [
       "                                        comment_text                id  \\\n",
       "0  explanation why the edits made under my userna...  0000997932d777bf   \n",
       "1  d aww  he matches this background colour i m s...  000103f0d9cfb60f   \n",
       "2  hey man  i m really not trying to edit war  it...  000113f07ec002fd   \n",
       "3    more i can t make any real suggestions on im...  0001b41b1c6bb37e   \n",
       "4  you  sir  are my hero  any chance you remember...  0001d958c54c6e35   \n",
       "\n",
       "   identity_hate  insult  obscene    set  severe_toxic  threat  toxic  \\\n",
       "0            0.0     0.0      0.0  train           0.0     0.0    0.0   \n",
       "1            0.0     0.0      0.0  train           0.0     0.0    0.0   \n",
       "2            0.0     0.0      0.0  train           0.0     0.0    0.0   \n",
       "3            0.0     0.0      0.0  train           0.0     0.0    0.0   \n",
       "4            0.0     0.0      0.0  train           0.0     0.0    0.0   \n",
       "\n",
       "   toxicity  \n",
       "0       0.0  \n",
       "1       0.0  \n",
       "2       0.0  \n",
       "3       0.0  \n",
       "4       0.0  "
      ]
     },
     "execution_count": 46,
     "metadata": {},
     "output_type": "execute_result"
    }
   ],
   "source": [
    "df.head()"
   ]
  },
  {
   "cell_type": "code",
   "execution_count": 4,
   "metadata": {},
   "outputs": [
    {
     "data": {
      "text/plain": [
       "0.0    151694\n",
       "1.0      7877\n",
       "Name: insult, dtype: int64"
      ]
     },
     "execution_count": 4,
     "metadata": {},
     "output_type": "execute_result"
    }
   ],
   "source": [
    "df.insult.value_counts()"
   ]
  },
  {
   "cell_type": "code",
   "execution_count": 1,
   "metadata": {},
   "outputs": [
    {
     "name": "stderr",
     "output_type": "stream",
     "text": [
      "Using TensorFlow backend.\n"
     ]
    }
   ],
   "source": [
    "  \n",
    "from docutils.nodes import header\n",
    "from keras.layers import GRU\n",
    "from numpy.core.multiarray import dtype\n",
    "from pygments.lexer import words\n",
    "from nltk import *\n",
    "from nltk.tokenize import *\n",
    "from sklearn.model_selection import train_test_split\n",
    "import numpy as np\n",
    "import pandas as pd\n",
    "from keras.preprocessing import sequence,text\n",
    "from keras import *\n",
    "from keras.layers import *\n",
    "import keras\n",
    "import os\n",
    "import string\n",
    "from nltk.corpus import stopwords\n",
    "from keras import backend as K\n",
    "import matplotlib.pyplot as plt\n",
    "\n",
    "import tensorflow as tf\n",
    "from tensorflow.python.tools import freeze_graph\n",
    "from tensorflow.python.tools import optimize_for_inference_lib"
   ]
  },
  {
   "cell_type": "code",
   "execution_count": 7,
   "metadata": {},
   "outputs": [],
   "source": [
    "MODEL_NAME = \"gp\"\n",
    "Wk = word_tokenize\n",
    "LEM = stem.WordNetLemmatizer()\n",
    "EMBEDDING_DIM = 50\n",
    "MAX_SEQUENCE_LENGTH = 20\n",
    "HIDDEN_LAYER_SIZE = 200\n",
    "LAYERS = 1\n",
    "\n",
    "def embedding(data):\n",
    "    embeddings_index = {}\n",
    "    f = open(os.path.join('glove.6B.50d.txt'), encoding=\"utf8\")\n",
    "    for line in f:\n",
    "        values = str(line).split(' ')\n",
    "        word = values[0]\n",
    "        coefs = np.asarray(values[1:], dtype='float32')\n",
    "        embeddings_index[word] = coefs\n",
    "    f.close()\n",
    "    for sent in data:\n",
    "        for word in sent:\n",
    "            embedding_vector = embeddings_index.get(word)\n",
    "            if embedding_vector is None:\n",
    "                embeddings_index[word] = np.random.rand(EMBEDDING_DIM)\n",
    "                print(\"iiiiiiiiiiiiiiiiiiiiiiii  = \",word, \" sss \")\n",
    "    length = len(embeddings_index)+1\n",
    "    ind_to_word = []\n",
    "    word_to_ind = {}\n",
    "    ind_to_vec = np.random.rand(length,EMBEDDING_DIM)\n",
    "    ind_to_vec[0] = np.zeros(EMBEDDING_DIM)\n",
    "    ind = 1\n",
    "    for word , vec in embeddings_index.items():\n",
    "        ind_to_word.append(word)\n",
    "        ind_to_vec[ind] = vec\n",
    "        word_to_ind[word] = ind\n",
    "        ind += 1\n",
    "    return ind_to_vec , word_to_ind , ind_to_word\n",
    "\n",
    "def seq_data(data,word_to_ind):\n",
    "    temp = data.apply(lambda row: [word_to_ind[i] for i in row])\n",
    "    return temp"
   ]
  },
  {
   "cell_type": "code",
   "execution_count": 8,
   "metadata": {},
   "outputs": [],
   "source": [
    "def read_data():\n",
    "    data = pd.read_csv('train_preprocessed.csv')\n",
    "    x = data['comment_text']\n",
    "    y = data['insult']\n",
    "    temp_unique_label = y.unique()\n",
    "    unique_label = {}\n",
    "    for i , label in enumerate(temp_unique_label):\n",
    "        unique_label[i] = label\n",
    "        y= y.replace((label),(i))\n",
    "    y = keras.utils.to_categorical(y,len(unique_label))\n",
    "    x = preprocess(x)\n",
    "    return x ,y,unique_label"
   ]
  },
  {
   "cell_type": "code",
   "execution_count": 9,
   "metadata": {},
   "outputs": [],
   "source": [
    "def preprocess(data,stem = False):\n",
    "    #stop = stopwords.words('english')\n",
    "    stop = list(string.punctuation)\n",
    "    #stop = ['!', '\"', '#', '$', '%', '&', \"'\", '(', ')', '*', '+', ',', '-', '.', '/', ':', ';', '<', '=', '>', '?', '@', '[', '\\\\', ']', '^', '_', '`', '{', '|', '}', '~']\n",
    "    print(stop)\n",
    "    tokenizer = TreebankWordTokenizer()\n",
    "    p_stemmer = PorterStemmer()\n",
    "    list_of_X = data.apply(lambda row: row.lower())\n",
    "    # list_of_X = list_of_X.apply(lambda row: [i for i in (row.split())])\n",
    "    list_of_X = list_of_X.apply(lambda row: tokenizer.tokenize(row))\n",
    "    #list_of_X = list_of_X.apply(lambda row: [LEM.lemmatize(i) for i in row])\n",
    "    #list_of_X = list_of_X.apply(lambda row: [p_stemmer.stem(i) for i in row])\n",
    "    list_of_X = list_of_X.apply(lambda row: [i for i in row if i not in stop])\n",
    "    #list_of_X = list_of_X.apply(lambda row: str(row))\n",
    "    return list_of_X\n"
   ]
  },
  {
   "cell_type": "code",
   "execution_count": 11,
   "metadata": {},
   "outputs": [],
   "source": [
    "# x , y ,unique_label = read_data()\n",
    "\n",
    "# ind_to_vec,word_to_ind,ind_to_word = embedding(x)\n",
    "# x = seq_data(x , word_to_ind)\n",
    "# x = keras.preprocessing.sequence.pad_sequences(x,MAX_SEQUENCE_LENGTH,padding='pre',truncating='post',value=0)\n",
    "# train_x, test_x, train_y, test_y = train_test_split(x, y, test_size=0.2, random_state=0)\n",
    "\n"
   ]
  },
  {
   "cell_type": "code",
   "execution_count": 56,
   "metadata": {},
   "outputs": [
    {
     "data": {
      "text/plain": [
       "0         [explanation, why, the, edits, made, under, my...\n",
       "1         [d, aww, he, matches, this, background, colour...\n",
       "2         [hey, man, i, m, really, not, trying, to, edit...\n",
       "3         [more, i, can, t, make, any, real, suggestions...\n",
       "4         [you, sir, are, my, hero, any, chance, you, re...\n",
       "                                ...                        \n",
       "159566    [and, for, the, second, time, of, asking, when...\n",
       "159567    [you, should, be, ashamed, of, yourself, that,...\n",
       "159568    [spitzer, umm, theres, no, actual, article, fo...\n",
       "159569    [and, it, looks, like, it, was, actually, you,...\n",
       "159570    [and, i, really, don, t, think, you, understan...\n",
       "Name: comment_text, Length: 159571, dtype: object"
      ]
     },
     "execution_count": 56,
     "metadata": {},
     "output_type": "execute_result"
    }
   ],
   "source": [
    "x"
   ]
  },
  {
   "cell_type": "code",
   "execution_count": null,
   "metadata": {},
   "outputs": [],
   "source": []
  },
  {
   "cell_type": "code",
   "execution_count": 32,
   "metadata": {},
   "outputs": [
    {
     "name": "stdout",
     "output_type": "stream",
     "text": [
      "Model: \"sequential_4\"\n",
      "_________________________________________________________________\n",
      "Layer (type)                 Output Shape              Param #   \n",
      "=================================================================\n",
      "embedding_4 (Embedding)      (None, 20, 50)            23735750  \n",
      "_________________________________________________________________\n",
      "gru_4 (GRU)                  (None, 128)               68736     \n",
      "_________________________________________________________________\n",
      "dense_7 (Dense)              (None, 32)                4128      \n",
      "_________________________________________________________________\n",
      "dense_8 (Dense)              (None, 2)                 66        \n",
      "=================================================================\n",
      "Total params: 23,808,680\n",
      "Trainable params: 23,808,680\n",
      "Non-trainable params: 0\n",
      "_________________________________________________________________\n"
     ]
    },
    {
     "name": "stderr",
     "output_type": "stream",
     "text": [
      "C:\\Users\\hedi\\AppData\\Roaming\\Python\\Python37\\site-packages\\tensorflow_core\\python\\framework\\indexed_slices.py:433: UserWarning: Converting sparse IndexedSlices to a dense Tensor of unknown shape. This may consume a large amount of memory.\n",
      "  \"Converting sparse IndexedSlices to a dense Tensor of unknown shape. \"\n"
     ]
    },
    {
     "name": "stdout",
     "output_type": "stream",
     "text": [
      "Train on 127656 samples, validate on 31915 samples\n",
      "Epoch 1/5\n",
      "127656/127656 [==============================] - 373s 3ms/step - loss: 0.1003 - accuracy: 0.9666 - val_loss: 0.0884 - val_accuracy: 0.9684\n",
      "Epoch 2/5\n",
      "127656/127656 [==============================] - 366s 3ms/step - loss: 0.0752 - accuracy: 0.9737 - val_loss: 0.0827 - val_accuracy: 0.9714\n",
      "Epoch 3/5\n",
      "127656/127656 [==============================] - 365s 3ms/step - loss: 0.0643 - accuracy: 0.9767 - val_loss: 0.0855 - val_accuracy: 0.9697\n",
      "Epoch 4/5\n",
      "127656/127656 [==============================] - 370s 3ms/step - loss: 0.0504 - accuracy: 0.9812 - val_loss: 0.1066 - val_accuracy: 0.9690\n",
      "Epoch 5/5\n",
      "127656/127656 [==============================] - 376s 3ms/step - loss: 0.0374 - accuracy: 0.9860 - val_loss: 0.1185 - val_accuracy: 0.9647\n",
      "dict_keys(['val_loss', 'val_accuracy', 'loss', 'accuracy'])\n"
     ]
    },
    {
     "data": {
      "image/png": "[encoded data removed]",
      "text/plain": [
       "<Figure size 432x288 with 1 Axes>"
      ]
     },
     "metadata": {
      "needs_background": "light"
     },
     "output_type": "display_data"
    },
    {
     "data": {
      "image/png": "[encoded data removed]",
      "text/plain": [
       "<Figure size 432x288 with 1 Axes>"
      ]
     },
     "metadata": {
      "needs_background": "light"
     },
     "output_type": "display_data"
    }
   ],
   "source": [
    "# def KERAS():\n",
    "model = Sequential()\n",
    "model.add(Embedding(input_dim=len(ind_to_vec), output_dim=EMBEDDING_DIM,\n",
    "                  weights=[ind_to_vec], input_length=MAX_SEQUENCE_LENGTH))\n",
    "\n",
    "model.add(GRU(128,unroll=True))\n",
    "model.add(Dense(32,activation='tanh'))\n",
    "model.add(Dense(len(unique_label),activation = 'softmax'))\n",
    "\n",
    "model.compile(keras.optimizers.adam(),\n",
    "              loss='categorical_crossentropy',\n",
    "              metrics=['accuracy'])\n",
    "model.summary()\n",
    "history = model.fit(train_x, train_y,epochs=5,batch_size=164,verbose=1,validation_data=(test_x,test_y))\n",
    "print(history.history.keys())\n",
    "# summarize history for accuracy\n",
    "plt.plot(history.history['accuracy'])\n",
    "plt.plot(history.history['val_accuracy'])\n",
    "plt.title('model accuracy')\n",
    "plt.ylabel('accuracy')\n",
    "plt.xlabel('epoch')\n",
    "plt.legend(['train', 'test'], loc='upper left')\n",
    "plt.show()\n",
    "# summarize history for loss\n",
    "plt.plot(history.history['loss'])\n",
    "plt.plot(history.history['val_loss'])\n",
    "plt.title('model loss')\n",
    "plt.ylabel('loss')\n",
    "plt.xlabel('epoch')\n",
    "plt.legend(['train', 'test'], loc='upper left')\n",
    "plt.show()\n"
   ]
  },
  {
   "cell_type": "code",
   "execution_count": 26,
   "metadata": {},
   "outputs": [],
   "source": [
    "df_test=pd.read_csv(\"test_preprocessed.csv\")"
   ]
  },
  {
   "cell_type": "code",
   "execution_count": 28,
   "metadata": {},
   "outputs": [
    {
     "name": "stdout",
     "output_type": "stream",
     "text": [
      "<class 'pandas.core.frame.DataFrame'>\n",
      "RangeIndex: 153164 entries, 0 to 153163\n",
      "Data columns (total 10 columns):\n",
      "comment_text     153149 non-null object\n",
      "id               153164 non-null object\n",
      "identity_hate    0 non-null float64\n",
      "insult           0 non-null float64\n",
      "obscene          0 non-null float64\n",
      "set              153164 non-null object\n",
      "severe_toxic     0 non-null float64\n",
      "threat           0 non-null float64\n",
      "toxic            0 non-null float64\n",
      "toxicity         0 non-null float64\n",
      "dtypes: float64(7), object(3)\n",
      "memory usage: 11.7+ MB\n"
     ]
    }
   ],
   "source": [
    "df_test.info()"
   ]
  },
  {
   "cell_type": "code",
   "execution_count": 33,
   "metadata": {},
   "outputs": [
    {
     "name": "stdout",
     "output_type": "stream",
     "text": [
      "31915/31915 [==============================] - 4s 110us/step\n",
      "Test set\n",
      "  Loss: 0.119\n",
      "  Accuracy: 0.965\n"
     ]
    }
   ],
   "source": [
    "accr = model.evaluate(test_x,test_y)\n",
    "print('Test set\\n  Loss: {:0.3f}\\n  Accuracy: {:0.3f}'.format(accr[0],accr[1]))\n"
   ]
  },
  {
   "cell_type": "code",
   "execution_count": 34,
   "metadata": {},
   "outputs": [],
   "source": [
    "model.save(\"insultmodel.h5\")\n"
   ]
  },
  {
   "cell_type": "code",
   "execution_count": 36,
   "metadata": {},
   "outputs": [
    {
     "name": "stderr",
     "output_type": "stream",
     "text": [
      "C:\\Users\\hedi\\AppData\\Roaming\\Python\\Python37\\site-packages\\tensorflow_core\\python\\framework\\indexed_slices.py:433: UserWarning: Converting sparse IndexedSlices to a dense Tensor of unknown shape. This may consume a large amount of memory.\n",
      "  \"Converting sparse IndexedSlices to a dense Tensor of unknown shape. \"\n"
     ]
    }
   ],
   "source": [
    "from keras.models import load_model\n",
    "my_model=load_model(\"insultmodel.h5\")"
   ]
  },
  {
   "cell_type": "code",
   "execution_count": 37,
   "metadata": {},
   "outputs": [
    {
     "name": "stdout",
     "output_type": "stream",
     "text": [
      "Model: \"sequential_4\"\n",
      "_________________________________________________________________\n",
      "Layer (type)                 Output Shape              Param #   \n",
      "=================================================================\n",
      "embedding_4 (Embedding)      (None, 20, 50)            23735750  \n",
      "_________________________________________________________________\n",
      "gru_4 (GRU)                  (None, 128)               68736     \n",
      "_________________________________________________________________\n",
      "dense_7 (Dense)              (None, 32)                4128      \n",
      "_________________________________________________________________\n",
      "dense_8 (Dense)              (None, 2)                 66        \n",
      "=================================================================\n",
      "Total params: 23,808,680\n",
      "Trainable params: 23,808,680\n",
      "Non-trainable params: 0\n",
      "_________________________________________________________________\n"
     ]
    }
   ],
   "source": [
    "my_model.summary()"
   ]
  },
  {
   "cell_type": "code",
   "execution_count": 43,
   "metadata": {},
   "outputs": [
    {
     "data": {
      "text/plain": [
       "\u001b[1;31mSignature:\u001b[0m \u001b[0mmy_model\u001b[0m\u001b[1;33m.\u001b[0m\u001b[0mget_weights\u001b[0m\u001b[1;33m(\u001b[0m\u001b[1;33m)\u001b[0m\u001b[1;33m\u001b[0m\u001b[1;33m\u001b[0m\u001b[0m\n",
       "\u001b[1;31mDocstring:\u001b[0m\n",
       "Retrieves the weights of the model.\n",
       "\n",
       "# Returns\n",
       "    A flat list of Numpy arrays.\n",
       "\u001b[1;31mFile:\u001b[0m      c:\\users\\hedi\\.conda\\envs\\factory619\\lib\\site-packages\\keras\\engine\\network.py\n",
       "\u001b[1;31mType:\u001b[0m      method\n"
      ]
     },
     "metadata": {},
     "output_type": "display_data"
    }
   ],
   "source": [
    "my_model.get_weights?"
   ]
  },
  {
   "cell_type": "code",
   "execution_count": 41,
   "metadata": {},
   "outputs": [
    {
     "data": {
      "text/plain": [
       "\u001b[1;31mType:\u001b[0m        Adam\n",
       "\u001b[1;31mString form:\u001b[0m <keras.optimizers.Adam object at 0x000002F6123F2388>\n",
       "\u001b[1;31mFile:\u001b[0m        c:\\users\\hedi\\.conda\\envs\\factory619\\lib\\site-packages\\keras\\optimizers.py\n",
       "\u001b[1;31mDocstring:\u001b[0m  \n",
       "Adam optimizer.\n",
       "\n",
       "Default parameters follow those provided in the original paper.\n",
       "\n",
       "# Arguments\n",
       "    learning_rate: float >= 0. Learning rate.\n",
       "    beta_1: float, 0 < beta < 1. Generally close to 1.\n",
       "    beta_2: float, 0 < beta < 1. Generally close to 1.\n",
       "    amsgrad: boolean. Whether to apply the AMSGrad variant of this\n",
       "        algorithm from the paper \"On the Convergence of Adam and\n",
       "        Beyond\".\n",
       "\n",
       "# References\n",
       "    - [Adam - A Method for Stochastic Optimization](\n",
       "       https://arxiv.org/abs/1412.6980v8)\n",
       "    - [On the Convergence of Adam and Beyond](\n",
       "       https://openreview.net/forum?id=ryQu7f-RZ)\n"
      ]
     },
     "metadata": {},
     "output_type": "display_data"
    }
   ],
   "source": [
    "my_model.optimizer?"
   ]
  },
  {
   "cell_type": "code",
   "execution_count": null,
   "metadata": {},
   "outputs": [],
   "source": []
  },
  {
   "cell_type": "code",
   "execution_count": 22,
   "metadata": {},
   "outputs": [],
   "source": [
    "def export_model(saver,input_node_names, output_node_name):\n",
    "    tf.train.write_graph(K.get_session().graph_def, 'out', MODEL_NAME + '_graph.pbtxt')\n",
    "\n",
    "    saver.save(K.get_session(), 'out/' + MODEL_NAME + '.chkp')\n",
    "\n",
    "    freeze_graph.freeze_graph('out/' + MODEL_NAME + '_graph.pbtxt', None, \\\n",
    "        False, 'out/' + MODEL_NAME + '.chkp', output_node_name, \\\n",
    "        \"save/restore_all\", \"save/Const:0\", \\\n",
    "        'out/frozen_' + MODEL_NAME + '.pb', True, \"\")\n",
    "\n",
    "    input_graph_def = tf.GraphDef()\n",
    "    with tf.gfile.Open('out/frozen_' + MODEL_NAME + '.pb', \"rb\") as f:\n",
    "        input_graph_def.ParseFromString(f.read())\n",
    "\n",
    "    output_graph_def = optimize_for_inference_lib.optimize_for_inference(\n",
    "            input_graph_def, input_node_names, [output_node_name],\n",
    "            tf.float32.as_datatype_enum)\n",
    "\n",
    "    with tf.gfile.FastGFile('out/opt_' + MODEL_NAME + '.pb', \"wb\") as f:\n",
    "        f.write(output_graph_def.SerializeToString())\n",
    "\n",
    "    print(\"graph saved!\")\n",
    "#export_model(tf.train.Saver(),[\"embedding_1_input\"], \"dense_2/Softmax\")"
   ]
  },
  {
   "cell_type": "code",
   "execution_count": 23,
   "metadata": {},
   "outputs": [
    {
     "ename": "AttributeError",
     "evalue": "module 'tensorflow_core._api.v2.train' has no attribute 'Saver'",
     "output_type": "error",
     "traceback": [
      "\u001b[1;31m---------------------------------------------------------------------------\u001b[0m",
      "\u001b[1;31mAttributeError\u001b[0m                            Traceback (most recent call last)",
      "\u001b[1;32m<ipython-input-23-ce999559e12f>\u001b[0m in \u001b[0;36m<module>\u001b[1;34m\u001b[0m\n\u001b[1;32m----> 1\u001b[1;33m \u001b[0mexport_model\u001b[0m\u001b[1;33m(\u001b[0m\u001b[0mtf\u001b[0m\u001b[1;33m.\u001b[0m\u001b[0mtrain\u001b[0m\u001b[1;33m.\u001b[0m\u001b[0mSaver\u001b[0m\u001b[1;33m(\u001b[0m\u001b[1;33m)\u001b[0m\u001b[1;33m,\u001b[0m\u001b[1;33m[\u001b[0m\u001b[1;34m\"embedding_1_input\"\u001b[0m\u001b[1;33m]\u001b[0m\u001b[1;33m,\u001b[0m \u001b[1;34m\"dense_2/Softmax\"\u001b[0m\u001b[1;33m)\u001b[0m\u001b[1;33m\u001b[0m\u001b[1;33m\u001b[0m\u001b[0m\n\u001b[0m",
      "\u001b[1;31mAttributeError\u001b[0m: module 'tensorflow_core._api.v2.train' has no attribute 'Saver'"
     ]
    }
   ],
   "source": [
    "export_model(tf.train.Saver(),[\"embedding_1_input\"], \"dense_2/Softmax\")"
   ]
  },
  {
   "cell_type": "code",
   "execution_count": null,
   "metadata": {},
   "outputs": [],
   "source": []
  }
 ],
 "metadata": {
  "kernelspec": {
   "display_name": "Python 3",
   "language": "python",
   "name": "python3"
  },
  "language_info": {
   "codemirror_mode": {
    "name": "ipython",
    "version": 3
   },
   "file_extension": ".py",
   "mimetype": "text/x-python",
   "name": "python",
   "nbconvert_exporter": "python",
   "pygments_lexer": "ipython3",
   "version": "3.7.4"
  }
 },
 "nbformat": 4,
 "nbformat_minor": 4
}
